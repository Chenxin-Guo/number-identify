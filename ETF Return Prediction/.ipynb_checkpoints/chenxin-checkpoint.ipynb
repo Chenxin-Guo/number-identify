{
 "cells": [
  {
   "cell_type": "markdown",
   "metadata": {},
   "source": [
    "Q1:\n",
    "(a)\n",
    "The website I use is https://finance.yahoo.com/quote/FEZ/history/\n",
    "I select the max data going back is 10/21/2002 \n",
    "I use pandas_datareader to extract yahoo finance data using the ticket name\n"
   ]
  },
  {
   "cell_type": "code",
   "execution_count": 114,
   "metadata": {},
   "outputs": [],
   "source": [
    "from pandas_datareader import data\n",
    "fez = data.DataReader('FEZ', 'yahoo', start = '2002-10-21', end = '2019-11-01')\n",
    "fez.head()\n",
    "fez.to_csv('./data/fez.csv')"
   ]
  },
  {
   "cell_type": "code",
   "execution_count": 12,
   "metadata": {},
   "outputs": [
    {
     "name": "stdout",
     "output_type": "stream",
     "text": [
      "[-0.02, -0.02530615670340402, -0.004187540939506615, 0.011354017772029174, 0.015384650768023096]\n",
      "[-0.01999987570612803, -0.025305848631752264, -0.004187826130290846, 0.011353952176655493, 0.015384781382695707]\n"
     ]
    }
   ],
   "source": [
    "#(b)\n",
    "fex_close = list(fez['Close'])\n",
    "length = len(fex_close)\n",
    "close_return = []\n",
    "for i in range(length-1):\n",
    "    ret = (fex_close[i+1] - fex_close[i])/fex_close[i]\n",
    "    close_return.append(ret)\n",
    "\n",
    "print(close_return[:5])\n",
    "\n",
    "\n",
    "fex_close_adjust = list(fez['Adj Close'])\n",
    "length_adjust = len(fex_close_adjust)\n",
    "close_return_adjust = []\n",
    "for i in range(length_adjust-1):\n",
    "    ret = (fex_close_adjust[i+1] - fex_close_adjust[i])/fex_close_adjust[i]\n",
    "    close_return_adjust.append(ret)\n",
    "\n",
    "print(close_return_adjust[:5])"
   ]
  },
  {
   "cell_type": "markdown",
   "metadata": {},
   "source": [
    "*** How did you make sure that the returns are adjusted for splits and dividends? What irregularities did you find and how did you deal with them? ***\n",
    "\n",
    "Answer:<br>\n",
    "From the data set<br>\n",
    "Close price adjusted for splits. Adjusted close price adjusted for both dividends and splits.<br>\n",
    "close_return is the return adjust for splits.<br>\n",
    "close_return_adjust is the return adjusted for both dividends and splits.<br>"
   ]
  },
  {
   "cell_type": "markdown",
   "metadata": {},
   "source": [
    "***Q2*** <br>\n",
    "(a)<br>\n",
    "i use this website https://us.spdrs.com/en/etf/spdr-euro-stoxx-50-etf-FEZ<br>\n",
    "Since this is the official website for spdrs, i think the source is good.<br>\n",
    "I download the data by csv and name it as FEZ_All_Holdings in data folder<br>\n",
    "\n",
    "(b)<br>\n",
    "The Currency is EURO<br>\n",
    "There’s a number of ways that you can manage your exposure to currency risk:<br>\n",
    "1. Buying currency-hedged ETFs: These products are a very cheap and straightforward way to neutralise currency risk. \n",
    "2. More diversify: Splitting assets between different assets and markets reduces total investment risk. \n",
    "3. Avoid risk: Increase asset allocation to customers' own currency area"
   ]
  },
  {
   "cell_type": "code",
   "execution_count": null,
   "metadata": {},
   "outputs": [],
   "source": []
  },
  {
   "cell_type": "markdown",
   "metadata": {},
   "source": [
    "*** Q3 ***"
   ]
  },
  {
   "cell_type": "code",
   "execution_count": 117,
   "metadata": {},
   "outputs": [],
   "source": [
    "#c(c)\n",
    "import pandas as pd\n",
    "stock = pd.read_csv('./data/ETF_stocks.list', header=None)\n",
    "stock_list = stock[0].tolist()\n",
    "weight = pd.read_csv('./data/Weight.list', header=None)\n",
    "stock_weight = weight[0].tolist()"
   ]
  },
  {
   "cell_type": "code",
   "execution_count": 72,
   "metadata": {},
   "outputs": [
    {
     "data": {
      "text/html": [
       "<div>\n",
       "<style scoped>\n",
       "    .dataframe tbody tr th:only-of-type {\n",
       "        vertical-align: middle;\n",
       "    }\n",
       "\n",
       "    .dataframe tbody tr th {\n",
       "        vertical-align: top;\n",
       "    }\n",
       "\n",
       "    .dataframe thead th {\n",
       "        text-align: right;\n",
       "    }\n",
       "</style>\n",
       "<table border=\"1\" class=\"dataframe\">\n",
       "  <thead>\n",
       "    <tr style=\"text-align: right;\">\n",
       "      <th></th>\n",
       "      <th>SAP.DE</th>\n",
       "      <th>FP.PA</th>\n",
       "      <th>MC.PA</th>\n",
       "      <th>ASML.AS</th>\n",
       "      <th>LIN.DE</th>\n",
       "    </tr>\n",
       "    <tr>\n",
       "      <th>Date</th>\n",
       "      <th></th>\n",
       "      <th></th>\n",
       "      <th></th>\n",
       "      <th></th>\n",
       "      <th></th>\n",
       "    </tr>\n",
       "  </thead>\n",
       "  <tbody>\n",
       "    <tr>\n",
       "      <th>2002-10-01</th>\n",
       "      <td>0.575895</td>\n",
       "      <td>1.716838</td>\n",
       "      <td>1.426709</td>\n",
       "      <td>0.355365</td>\n",
       "      <td>1.344974</td>\n",
       "    </tr>\n",
       "    <tr>\n",
       "      <th>2002-10-02</th>\n",
       "      <td>0.545651</td>\n",
       "      <td>1.789554</td>\n",
       "      <td>1.463025</td>\n",
       "      <td>0.386217</td>\n",
       "      <td>1.315103</td>\n",
       "    </tr>\n",
       "    <tr>\n",
       "      <th>2002-10-03</th>\n",
       "      <td>0.541997</td>\n",
       "      <td>1.735326</td>\n",
       "      <td>1.427507</td>\n",
       "      <td>0.385646</td>\n",
       "      <td>1.306517</td>\n",
       "    </tr>\n",
       "    <tr>\n",
       "      <th>2002-10-04</th>\n",
       "      <td>0.535570</td>\n",
       "      <td>1.665074</td>\n",
       "      <td>1.386801</td>\n",
       "      <td>0.352509</td>\n",
       "      <td>1.286351</td>\n",
       "    </tr>\n",
       "    <tr>\n",
       "      <th>2002-10-07</th>\n",
       "      <td>0.527379</td>\n",
       "      <td>1.689724</td>\n",
       "      <td>1.366847</td>\n",
       "      <td>0.302803</td>\n",
       "      <td>1.261336</td>\n",
       "    </tr>\n",
       "    <tr>\n",
       "      <th>...</th>\n",
       "      <td>...</td>\n",
       "      <td>...</td>\n",
       "      <td>...</td>\n",
       "      <td>...</td>\n",
       "      <td>...</td>\n",
       "    </tr>\n",
       "    <tr>\n",
       "      <th>2019-10-28</th>\n",
       "      <td>6.033666</td>\n",
       "      <td>2.358958</td>\n",
       "      <td>15.248824</td>\n",
       "      <td>9.414327</td>\n",
       "      <td>6.912542</td>\n",
       "    </tr>\n",
       "    <tr>\n",
       "      <th>2019-10-29</th>\n",
       "      <td>5.993341</td>\n",
       "      <td>2.350084</td>\n",
       "      <td>15.174994</td>\n",
       "      <td>9.367402</td>\n",
       "      <td>7.059160</td>\n",
       "    </tr>\n",
       "    <tr>\n",
       "      <th>2019-10-30</th>\n",
       "      <td>6.018545</td>\n",
       "      <td>2.349838</td>\n",
       "      <td>15.342608</td>\n",
       "      <td>9.287238</td>\n",
       "      <td>6.947730</td>\n",
       "    </tr>\n",
       "    <tr>\n",
       "      <th>2019-10-31</th>\n",
       "      <td>5.988301</td>\n",
       "      <td>2.323709</td>\n",
       "      <td>15.264787</td>\n",
       "      <td>9.189478</td>\n",
       "      <td>6.930136</td>\n",
       "    </tr>\n",
       "    <tr>\n",
       "      <th>2019-11-01</th>\n",
       "      <td>6.029634</td>\n",
       "      <td>2.354028</td>\n",
       "      <td>15.534166</td>\n",
       "      <td>9.375222</td>\n",
       "      <td>6.951641</td>\n",
       "    </tr>\n",
       "  </tbody>\n",
       "</table>\n",
       "<p>4362 rows × 5 columns</p>\n",
       "</div>"
      ],
      "text/plain": [
       "              SAP.DE     FP.PA      MC.PA   ASML.AS    LIN.DE\n",
       "Date                                                         \n",
       "2002-10-01  0.575895  1.716838   1.426709  0.355365  1.344974\n",
       "2002-10-02  0.545651  1.789554   1.463025  0.386217  1.315103\n",
       "2002-10-03  0.541997  1.735326   1.427507  0.385646  1.306517\n",
       "2002-10-04  0.535570  1.665074   1.386801  0.352509  1.286351\n",
       "2002-10-07  0.527379  1.689724   1.366847  0.302803  1.261336\n",
       "...              ...       ...        ...       ...       ...\n",
       "2019-10-28  6.033666  2.358958  15.248824  9.414327  6.912542\n",
       "2019-10-29  5.993341  2.350084  15.174994  9.367402  7.059160\n",
       "2019-10-30  6.018545  2.349838  15.342608  9.287238  6.947730\n",
       "2019-10-31  5.988301  2.323709  15.264787  9.189478  6.930136\n",
       "2019-11-01  6.029634  2.354028  15.534166  9.375222  6.951641\n",
       "\n",
       "[4362 rows x 5 columns]"
      ]
     },
     "execution_count": 72,
     "metadata": {},
     "output_type": "execute_result"
    }
   ],
   "source": [
    "constitute = pd.DataFrame(data.DataReader('SAP.DE', 'yahoo', start = '2002-10-01', end = '2019-11-01')['Close'])\n",
    "i=0\n",
    "for ticket in stock_list:\n",
    "    Tic = ticket.replace('-', '.')\n",
    "    constitute[Tic] = data.DataReader(Tic, 'yahoo', start = '2002-10-01', end = '2019-11-01')['Close'] * stock_weight[i]\n",
    "    i=i+1\n",
    "cons = pd.DataFrame(constitute)\n",
    "cons.drop('Close', axis = 1, inplace = True)\n",
    "cons"
   ]
  },
  {
   "cell_type": "code",
   "execution_count": 74,
   "metadata": {},
   "outputs": [],
   "source": [
    "lst = list(cons['SAP.DE'])"
   ]
  },
  {
   "cell_type": "code",
   "execution_count": 115,
   "metadata": {},
   "outputs": [
    {
     "data": {
      "text/html": [
       "<div>\n",
       "<style scoped>\n",
       "    .dataframe tbody tr th:only-of-type {\n",
       "        vertical-align: middle;\n",
       "    }\n",
       "\n",
       "    .dataframe tbody tr th {\n",
       "        vertical-align: top;\n",
       "    }\n",
       "\n",
       "    .dataframe thead th {\n",
       "        text-align: right;\n",
       "    }\n",
       "</style>\n",
       "<table border=\"1\" class=\"dataframe\">\n",
       "  <thead>\n",
       "    <tr style=\"text-align: right;\">\n",
       "      <th></th>\n",
       "      <th>SAP.DE</th>\n",
       "      <th>FP.PA</th>\n",
       "      <th>MC.PA</th>\n",
       "      <th>ASML.AS</th>\n",
       "      <th>LIN.DE</th>\n",
       "    </tr>\n",
       "    <tr>\n",
       "      <th>Date</th>\n",
       "      <th></th>\n",
       "      <th></th>\n",
       "      <th></th>\n",
       "      <th></th>\n",
       "      <th></th>\n",
       "    </tr>\n",
       "  </thead>\n",
       "  <tbody>\n",
       "    <tr>\n",
       "      <th>2002-10-01</th>\n",
       "      <td>NaN</td>\n",
       "      <td>NaN</td>\n",
       "      <td>NaN</td>\n",
       "      <td>NaN</td>\n",
       "      <td>NaN</td>\n",
       "    </tr>\n",
       "    <tr>\n",
       "      <th>2002-10-02</th>\n",
       "      <td>-0.052516</td>\n",
       "      <td>0.042355</td>\n",
       "      <td>0.025455</td>\n",
       "      <td>0.086817</td>\n",
       "      <td>-0.022209</td>\n",
       "    </tr>\n",
       "    <tr>\n",
       "      <th>2002-10-03</th>\n",
       "      <td>-0.006697</td>\n",
       "      <td>-0.030303</td>\n",
       "      <td>-0.024277</td>\n",
       "      <td>-0.001479</td>\n",
       "      <td>-0.006529</td>\n",
       "    </tr>\n",
       "    <tr>\n",
       "      <th>2002-10-04</th>\n",
       "      <td>-0.011858</td>\n",
       "      <td>-0.040483</td>\n",
       "      <td>-0.028516</td>\n",
       "      <td>-0.085926</td>\n",
       "      <td>-0.015436</td>\n",
       "    </tr>\n",
       "    <tr>\n",
       "      <th>2002-10-07</th>\n",
       "      <td>-0.015294</td>\n",
       "      <td>0.014804</td>\n",
       "      <td>-0.014388</td>\n",
       "      <td>-0.141004</td>\n",
       "      <td>-0.019446</td>\n",
       "    </tr>\n",
       "    <tr>\n",
       "      <th>...</th>\n",
       "      <td>...</td>\n",
       "      <td>...</td>\n",
       "      <td>...</td>\n",
       "      <td>...</td>\n",
       "      <td>...</td>\n",
       "    </tr>\n",
       "    <tr>\n",
       "      <th>2019-10-28</th>\n",
       "      <td>0.004026</td>\n",
       "      <td>0.003250</td>\n",
       "      <td>-0.004818</td>\n",
       "      <td>0.012193</td>\n",
       "      <td>0.005117</td>\n",
       "    </tr>\n",
       "    <tr>\n",
       "      <th>2019-10-29</th>\n",
       "      <td>-0.006683</td>\n",
       "      <td>-0.003762</td>\n",
       "      <td>-0.004842</td>\n",
       "      <td>-0.004984</td>\n",
       "      <td>0.021210</td>\n",
       "    </tr>\n",
       "    <tr>\n",
       "      <th>2019-10-30</th>\n",
       "      <td>0.004205</td>\n",
       "      <td>-0.000105</td>\n",
       "      <td>0.011045</td>\n",
       "      <td>-0.008558</td>\n",
       "      <td>-0.015785</td>\n",
       "    </tr>\n",
       "    <tr>\n",
       "      <th>2019-10-31</th>\n",
       "      <td>-0.005025</td>\n",
       "      <td>-0.011119</td>\n",
       "      <td>-0.005072</td>\n",
       "      <td>-0.010526</td>\n",
       "      <td>-0.002532</td>\n",
       "    </tr>\n",
       "    <tr>\n",
       "      <th>2019-11-01</th>\n",
       "      <td>0.006902</td>\n",
       "      <td>0.013048</td>\n",
       "      <td>0.017647</td>\n",
       "      <td>0.020213</td>\n",
       "      <td>0.003103</td>\n",
       "    </tr>\n",
       "  </tbody>\n",
       "</table>\n",
       "<p>4362 rows × 5 columns</p>\n",
       "</div>"
      ],
      "text/plain": [
       "              SAP.DE     FP.PA     MC.PA   ASML.AS    LIN.DE\n",
       "Date                                                        \n",
       "2002-10-01       NaN       NaN       NaN       NaN       NaN\n",
       "2002-10-02 -0.052516  0.042355  0.025455  0.086817 -0.022209\n",
       "2002-10-03 -0.006697 -0.030303 -0.024277 -0.001479 -0.006529\n",
       "2002-10-04 -0.011858 -0.040483 -0.028516 -0.085926 -0.015436\n",
       "2002-10-07 -0.015294  0.014804 -0.014388 -0.141004 -0.019446\n",
       "...              ...       ...       ...       ...       ...\n",
       "2019-10-28  0.004026  0.003250 -0.004818  0.012193  0.005117\n",
       "2019-10-29 -0.006683 -0.003762 -0.004842 -0.004984  0.021210\n",
       "2019-10-30  0.004205 -0.000105  0.011045 -0.008558 -0.015785\n",
       "2019-10-31 -0.005025 -0.011119 -0.005072 -0.010526 -0.002532\n",
       "2019-11-01  0.006902  0.013048  0.017647  0.020213  0.003103\n",
       "\n",
       "[4362 rows x 5 columns]"
      ]
     },
     "execution_count": 115,
     "metadata": {},
     "output_type": "execute_result"
    }
   ],
   "source": [
    "stock_return = cons.pct_change()\n",
    "stock_return.to_csv('./data/return.csv')\n",
    "stock_return "
   ]
  },
  {
   "cell_type": "code",
   "execution_count": null,
   "metadata": {},
   "outputs": [],
   "source": []
  },
  {
   "cell_type": "code",
   "execution_count": null,
   "metadata": {},
   "outputs": [],
   "source": []
  },
  {
   "cell_type": "code",
   "execution_count": null,
   "metadata": {},
   "outputs": [],
   "source": []
  },
  {
   "cell_type": "code",
   "execution_count": null,
   "metadata": {},
   "outputs": [],
   "source": []
  },
  {
   "cell_type": "code",
   "execution_count": 92,
   "metadata": {},
   "outputs": [
    {
     "name": "stdout",
     "output_type": "stream",
     "text": [
      "[-0.01340146 -0.04198916 -0.03476124 -0.00983496 -0.03164034]\n"
     ]
    }
   ],
   "source": [
    "#Q4, since i choose 5 stocks as holdings, so i could only the existing dataset tp calculate the weights\n",
    "import numpy as np\n",
    "return_5stocks = cons.iloc[:5, :]\n",
    "#print(return_5stocks)\n",
    "\n",
    "return_ETF_5stocks = np.array(close_return[:5])\n",
    "\n",
    "weights_5stocks = np.matmul(return_ETF_5stocks.T, return_5stocks)\n",
    "print(weights_5stocks)\n"
   ]
  },
  {
   "cell_type": "markdown",
   "metadata": {},
   "source": [
    "#Q5\n",
    "1. Since interest is set near the last 10 day of the month, so I will not choose close date at the end of the month.\n",
    "2. Avoid the holiday rush such as the four-day Thanksgiving weekend. \n",
    "Therefore, i choose the begining of the month as close date: 2002-10-08 to 2019-10-04"
   ]
  },
  {
   "cell_type": "code",
   "execution_count": 102,
   "metadata": {},
   "outputs": [
    {
     "name": "stdout",
     "output_type": "stream",
     "text": [
      "0.5089869002233811\n"
     ]
    }
   ],
   "source": [
    "total_FEZ = list(fez.iloc[15:-20, :]['Close'])\n",
    "return_close = (total_FEZ[-1]-total_FEZ[0])/total_FEZ[0]\n",
    "print(return_close)"
   ]
  },
  {
   "cell_type": "code",
   "execution_count": 111,
   "metadata": {},
   "outputs": [
    {
     "data": {
      "text/plain": [
       "[7.813786658533776,\n",
       " 0.370906289537898,\n",
       " 9.76354713764398,\n",
       " 27.107522382798116,\n",
       " 4.435220335416784]"
      ]
     },
     "execution_count": 111,
     "metadata": {},
     "output_type": "execute_result"
    }
   ],
   "source": [
    "total_cons = cons.iloc[5:-20, :]\n",
    "total_cons\n",
    "first = total_cons.iloc[1,:]\n",
    "last = total_cons.iloc[-1,:]\n",
    "return_5stocks_close=[]\n",
    "for i in range(5):\n",
    "    return_5stocks_close.append((last[i]-first[i])/first[i])\n",
    "return_5stocks_close"
   ]
  },
  {
   "cell_type": "code",
   "execution_count": null,
   "metadata": {},
   "outputs": [],
   "source": []
  }
 ],
 "metadata": {
  "kernelspec": {
   "display_name": "Python 3",
   "language": "python",
   "name": "python3"
  },
  "language_info": {
   "codemirror_mode": {
    "name": "ipython",
    "version": 3
   },
   "file_extension": ".py",
   "mimetype": "text/x-python",
   "name": "python",
   "nbconvert_exporter": "python",
   "pygments_lexer": "ipython3",
   "version": "3.7.1"
  }
 },
 "nbformat": 4,
 "nbformat_minor": 2
}
