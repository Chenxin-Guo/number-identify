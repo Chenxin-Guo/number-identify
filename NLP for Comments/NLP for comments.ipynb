{
 "cells": [
  {
   "cell_type": "code",
   "execution_count": 60,
   "metadata": {},
   "outputs": [
    {
     "name": "stderr",
     "output_type": "stream",
     "text": [
      "[nltk_data] Downloading package punkt to\n",
      "[nltk_data]     /Users/guochenxin/nltk_data...\n",
      "[nltk_data]   Package punkt is already up-to-date!\n",
      "[nltk_data] Downloading package stopwords to\n",
      "[nltk_data]     /Users/guochenxin/nltk_data...\n",
      "[nltk_data]   Package stopwords is already up-to-date!\n",
      "[nltk_data] Downloading package wordnet to\n",
      "[nltk_data]     /Users/guochenxin/nltk_data...\n",
      "[nltk_data]   Package wordnet is already up-to-date!\n"
     ]
    }
   ],
   "source": [
    "import pandas as pd\n",
    "import numpy as np\n",
    "import seaborn as sns\n",
    "import matplotlib.pyplot as plt\n",
    "%matplotlib inline\n",
    "import sklearn\n",
    "from sklearn.model_selection import train_test_split\n",
    "import re\n",
    "from collections import Counter \n",
    "import nltk\n",
    "nltk.download('punkt')\n",
    "from nltk.tokenize import word_tokenize\n",
    "from nltk.tokenize import sent_tokenize\n",
    "from nltk.corpus import stopwords \n",
    "nltk.download('stopwords')\n",
    "from wordcloud import WordCloud, STOPWORDS, ImageColorGenerator\n",
    "import gensim \n",
    "from gensim.models import Word2Vec\n",
    "from nltk.tokenize import RegexpTokenizer\n",
    "from nltk.stem import PorterStemmer, WordNetLemmatizer\n",
    "from nltk.stem.snowball import SnowballStemmer\n",
    "nltk.download('wordnet')\n",
    "from sklearn.feature_extraction.text import TfidfVectorizer\n",
    "from sklearn.feature_extraction.text import CountVectorizer\n",
    "# doc2Vec package:\n",
    "import gensim.models as g\n",
    "import logging\n",
    "# RNN:\n",
    "from keras.layers import Dense, Flatten, LSTM, Conv1D, MaxPooling1D, Dropout, Activation\n",
    "from keras.layers.embeddings import Embedding"
   ]
  },
  {
   "cell_type": "code",
   "execution_count": 36,
   "metadata": {},
   "outputs": [
    {
     "data": {
      "text/html": [
       "<div>\n",
       "<style scoped>\n",
       "    .dataframe tbody tr th:only-of-type {\n",
       "        vertical-align: middle;\n",
       "    }\n",
       "\n",
       "    .dataframe tbody tr th {\n",
       "        vertical-align: top;\n",
       "    }\n",
       "\n",
       "    .dataframe thead th {\n",
       "        text-align: right;\n",
       "    }\n",
       "</style>\n",
       "<table border=\"1\" class=\"dataframe\">\n",
       "  <thead>\n",
       "    <tr style=\"text-align: right;\">\n",
       "      <th></th>\n",
       "      <th>Month</th>\n",
       "      <th>NPS/Ease</th>\n",
       "      <th>Good \\nBad \\nNeutral</th>\n",
       "      <th>Category</th>\n",
       "      <th>NPS Comment/Enhance</th>\n",
       "      <th>OTHER</th>\n",
       "    </tr>\n",
       "  </thead>\n",
       "  <tbody>\n",
       "    <tr>\n",
       "      <td>0</td>\n",
       "      <td>September</td>\n",
       "      <td>Passive</td>\n",
       "      <td>G</td>\n",
       "      <td>misc</td>\n",
       "      <td>Pretty OK</td>\n",
       "      <td>NaN</td>\n",
       "    </tr>\n",
       "    <tr>\n",
       "      <td>1</td>\n",
       "      <td>September</td>\n",
       "      <td>Promoter</td>\n",
       "      <td>G</td>\n",
       "      <td>product/industry</td>\n",
       "      <td>My advisor is very knowledgeable, uses the bes...</td>\n",
       "      <td>NaN</td>\n",
       "    </tr>\n",
       "    <tr>\n",
       "      <td>2</td>\n",
       "      <td>September</td>\n",
       "      <td>Promoter</td>\n",
       "      <td>G</td>\n",
       "      <td>product/industry</td>\n",
       "      <td>I have a good agent here in Honolulu. I think ...</td>\n",
       "      <td>NaN</td>\n",
       "    </tr>\n",
       "    <tr>\n",
       "      <td>3</td>\n",
       "      <td>September</td>\n",
       "      <td>Promoter</td>\n",
       "      <td>G</td>\n",
       "      <td>product/industry</td>\n",
       "      <td>Very good product offering.</td>\n",
       "      <td>NaN</td>\n",
       "    </tr>\n",
       "    <tr>\n",
       "      <td>4</td>\n",
       "      <td>September</td>\n",
       "      <td>Promoter</td>\n",
       "      <td>G</td>\n",
       "      <td>product/industry</td>\n",
       "      <td>JH has the best IUL's in the industry</td>\n",
       "      <td>NaN</td>\n",
       "    </tr>\n",
       "  </tbody>\n",
       "</table>\n",
       "</div>"
      ],
      "text/plain": [
       "       Month  NPS/Ease Good \\nBad \\nNeutral          Category  \\\n",
       "0  September   Passive                    G              misc   \n",
       "1  September  Promoter                    G  product/industry   \n",
       "2  September  Promoter                    G  product/industry   \n",
       "3  September  Promoter                    G  product/industry   \n",
       "4  September  Promoter                    G  product/industry   \n",
       "\n",
       "                                 NPS Comment/Enhance OTHER  \n",
       "0                                          Pretty OK   NaN  \n",
       "1  My advisor is very knowledgeable, uses the bes...   NaN  \n",
       "2  I have a good agent here in Honolulu. I think ...   NaN  \n",
       "3                        Very good product offering.   NaN  \n",
       "4              JH has the best IUL's in the industry   NaN  "
      ]
     },
     "execution_count": 36,
     "metadata": {},
     "output_type": "execute_result"
    }
   ],
   "source": [
    "comments = pd.read_excel('/Users/guochenxin/Desktop/text classification/Copy of inforce insurance portal comment sample.xlsx')\n",
    "comments.dropna(subset=['NPS Comment/Enhance', 'OTHER'],how = 'all', inplace = True)\n",
    "comments.head()"
   ]
  },
  {
   "cell_type": "code",
   "execution_count": 37,
   "metadata": {},
   "outputs": [
    {
     "ename": "KeyError",
     "evalue": "20",
     "output_type": "error",
     "traceback": [
      "\u001b[0;31m---------------------------------------------------------------------------\u001b[0m",
      "\u001b[0;31mKeyError\u001b[0m                                  Traceback (most recent call last)",
      "\u001b[0;32m<ipython-input-37-c351d8f85220>\u001b[0m in \u001b[0;36m<module>\u001b[0;34m\u001b[0m\n\u001b[1;32m      1\u001b[0m \u001b[0mwordlist\u001b[0m\u001b[0;34m=\u001b[0m\u001b[0;34m[\u001b[0m\u001b[0;34m]\u001b[0m\u001b[0;34m\u001b[0m\u001b[0;34m\u001b[0m\u001b[0m\n\u001b[1;32m      2\u001b[0m \u001b[0;32mfor\u001b[0m \u001b[0mi\u001b[0m \u001b[0;32min\u001b[0m \u001b[0mrange\u001b[0m\u001b[0;34m(\u001b[0m\u001b[0mcomments\u001b[0m\u001b[0;34m.\u001b[0m\u001b[0mshape\u001b[0m\u001b[0;34m[\u001b[0m\u001b[0;36m0\u001b[0m\u001b[0;34m]\u001b[0m\u001b[0;34m)\u001b[0m\u001b[0;34m:\u001b[0m\u001b[0;34m\u001b[0m\u001b[0;34m\u001b[0m\u001b[0m\n\u001b[0;32m----> 3\u001b[0;31m     \u001b[0;32mif\u001b[0m \u001b[0mcomments\u001b[0m\u001b[0;34m[\u001b[0m\u001b[0;34m'NPS Comment/Enhance'\u001b[0m\u001b[0;34m]\u001b[0m\u001b[0;34m.\u001b[0m\u001b[0misnull\u001b[0m\u001b[0;34m(\u001b[0m\u001b[0;34m)\u001b[0m\u001b[0;34m[\u001b[0m\u001b[0mi\u001b[0m\u001b[0;34m]\u001b[0m \u001b[0;34m==\u001b[0m\u001b[0;32mTrue\u001b[0m\u001b[0;34m:\u001b[0m\u001b[0;34m\u001b[0m\u001b[0;34m\u001b[0m\u001b[0m\n\u001b[0m\u001b[1;32m      4\u001b[0m         \u001b[0;32mcontinue\u001b[0m\u001b[0;34m\u001b[0m\u001b[0;34m\u001b[0m\u001b[0m\n\u001b[1;32m      5\u001b[0m     \u001b[0;32melse\u001b[0m\u001b[0;34m:\u001b[0m\u001b[0;34m\u001b[0m\u001b[0;34m\u001b[0m\u001b[0m\n",
      "\u001b[0;32m/anaconda3/lib/python3.7/site-packages/pandas/core/series.py\u001b[0m in \u001b[0;36m__getitem__\u001b[0;34m(self, key)\u001b[0m\n\u001b[1;32m   1066\u001b[0m         \u001b[0mkey\u001b[0m \u001b[0;34m=\u001b[0m \u001b[0mcom\u001b[0m\u001b[0;34m.\u001b[0m\u001b[0mapply_if_callable\u001b[0m\u001b[0;34m(\u001b[0m\u001b[0mkey\u001b[0m\u001b[0;34m,\u001b[0m \u001b[0mself\u001b[0m\u001b[0;34m)\u001b[0m\u001b[0;34m\u001b[0m\u001b[0;34m\u001b[0m\u001b[0m\n\u001b[1;32m   1067\u001b[0m         \u001b[0;32mtry\u001b[0m\u001b[0;34m:\u001b[0m\u001b[0;34m\u001b[0m\u001b[0;34m\u001b[0m\u001b[0m\n\u001b[0;32m-> 1068\u001b[0;31m             \u001b[0mresult\u001b[0m \u001b[0;34m=\u001b[0m \u001b[0mself\u001b[0m\u001b[0;34m.\u001b[0m\u001b[0mindex\u001b[0m\u001b[0;34m.\u001b[0m\u001b[0mget_value\u001b[0m\u001b[0;34m(\u001b[0m\u001b[0mself\u001b[0m\u001b[0;34m,\u001b[0m \u001b[0mkey\u001b[0m\u001b[0;34m)\u001b[0m\u001b[0;34m\u001b[0m\u001b[0;34m\u001b[0m\u001b[0m\n\u001b[0m\u001b[1;32m   1069\u001b[0m \u001b[0;34m\u001b[0m\u001b[0m\n\u001b[1;32m   1070\u001b[0m             \u001b[0;32mif\u001b[0m \u001b[0;32mnot\u001b[0m \u001b[0mis_scalar\u001b[0m\u001b[0;34m(\u001b[0m\u001b[0mresult\u001b[0m\u001b[0;34m)\u001b[0m\u001b[0;34m:\u001b[0m\u001b[0;34m\u001b[0m\u001b[0;34m\u001b[0m\u001b[0m\n",
      "\u001b[0;32m/anaconda3/lib/python3.7/site-packages/pandas/core/indexes/base.py\u001b[0m in \u001b[0;36mget_value\u001b[0;34m(self, series, key)\u001b[0m\n\u001b[1;32m   4728\u001b[0m         \u001b[0mk\u001b[0m \u001b[0;34m=\u001b[0m \u001b[0mself\u001b[0m\u001b[0;34m.\u001b[0m\u001b[0m_convert_scalar_indexer\u001b[0m\u001b[0;34m(\u001b[0m\u001b[0mk\u001b[0m\u001b[0;34m,\u001b[0m \u001b[0mkind\u001b[0m\u001b[0;34m=\u001b[0m\u001b[0;34m\"getitem\"\u001b[0m\u001b[0;34m)\u001b[0m\u001b[0;34m\u001b[0m\u001b[0;34m\u001b[0m\u001b[0m\n\u001b[1;32m   4729\u001b[0m         \u001b[0;32mtry\u001b[0m\u001b[0;34m:\u001b[0m\u001b[0;34m\u001b[0m\u001b[0;34m\u001b[0m\u001b[0m\n\u001b[0;32m-> 4730\u001b[0;31m             \u001b[0;32mreturn\u001b[0m \u001b[0mself\u001b[0m\u001b[0;34m.\u001b[0m\u001b[0m_engine\u001b[0m\u001b[0;34m.\u001b[0m\u001b[0mget_value\u001b[0m\u001b[0;34m(\u001b[0m\u001b[0ms\u001b[0m\u001b[0;34m,\u001b[0m \u001b[0mk\u001b[0m\u001b[0;34m,\u001b[0m \u001b[0mtz\u001b[0m\u001b[0;34m=\u001b[0m\u001b[0mgetattr\u001b[0m\u001b[0;34m(\u001b[0m\u001b[0mseries\u001b[0m\u001b[0;34m.\u001b[0m\u001b[0mdtype\u001b[0m\u001b[0;34m,\u001b[0m \u001b[0;34m\"tz\"\u001b[0m\u001b[0;34m,\u001b[0m \u001b[0;32mNone\u001b[0m\u001b[0;34m)\u001b[0m\u001b[0;34m)\u001b[0m\u001b[0;34m\u001b[0m\u001b[0;34m\u001b[0m\u001b[0m\n\u001b[0m\u001b[1;32m   4731\u001b[0m         \u001b[0;32mexcept\u001b[0m \u001b[0mKeyError\u001b[0m \u001b[0;32mas\u001b[0m \u001b[0me1\u001b[0m\u001b[0;34m:\u001b[0m\u001b[0;34m\u001b[0m\u001b[0;34m\u001b[0m\u001b[0m\n\u001b[1;32m   4732\u001b[0m             \u001b[0;32mif\u001b[0m \u001b[0mlen\u001b[0m\u001b[0;34m(\u001b[0m\u001b[0mself\u001b[0m\u001b[0;34m)\u001b[0m \u001b[0;34m>\u001b[0m \u001b[0;36m0\u001b[0m \u001b[0;32mand\u001b[0m \u001b[0;34m(\u001b[0m\u001b[0mself\u001b[0m\u001b[0;34m.\u001b[0m\u001b[0mholds_integer\u001b[0m\u001b[0;34m(\u001b[0m\u001b[0;34m)\u001b[0m \u001b[0;32mor\u001b[0m \u001b[0mself\u001b[0m\u001b[0;34m.\u001b[0m\u001b[0mis_boolean\u001b[0m\u001b[0;34m(\u001b[0m\u001b[0;34m)\u001b[0m\u001b[0;34m)\u001b[0m\u001b[0;34m:\u001b[0m\u001b[0;34m\u001b[0m\u001b[0;34m\u001b[0m\u001b[0m\n",
      "\u001b[0;32mpandas/_libs/index.pyx\u001b[0m in \u001b[0;36mpandas._libs.index.IndexEngine.get_value\u001b[0;34m()\u001b[0m\n",
      "\u001b[0;32mpandas/_libs/index.pyx\u001b[0m in \u001b[0;36mpandas._libs.index.IndexEngine.get_value\u001b[0;34m()\u001b[0m\n",
      "\u001b[0;32mpandas/_libs/index.pyx\u001b[0m in \u001b[0;36mpandas._libs.index.IndexEngine.get_loc\u001b[0;34m()\u001b[0m\n",
      "\u001b[0;32mpandas/_libs/hashtable_class_helper.pxi\u001b[0m in \u001b[0;36mpandas._libs.hashtable.Int64HashTable.get_item\u001b[0;34m()\u001b[0m\n",
      "\u001b[0;32mpandas/_libs/hashtable_class_helper.pxi\u001b[0m in \u001b[0;36mpandas._libs.hashtable.Int64HashTable.get_item\u001b[0;34m()\u001b[0m\n",
      "\u001b[0;31mKeyError\u001b[0m: 20"
     ]
    }
   ],
   "source": [
    "wordlist=[]\n",
    "for i in range(comments.shape[0]):\n",
    "    if comments['NPS Comment/Enhance'].isnull()[i] ==True:\n",
    "        continue\n",
    "    else:\n",
    "        pattern = '\\s|[,.!%-:]'\n",
    "        a = re.split(pattern, comments['NPS Comment/Enhance'][i])\n",
    "   \n",
    "        length = len(a)\n",
    "        j=0\n",
    "        while j < length:\n",
    "            if (a[j] == ''):\n",
    "                a.remove(a[j])\n",
    "                length = length - 1\n",
    "                continue\n",
    "            j = j+1\n",
    "        for word in a:\n",
    "            wordlist.append(word)\n",
    "print(wordlist)"
   ]
  },
  {
   "cell_type": "code",
   "execution_count": 145,
   "metadata": {},
   "outputs": [],
   "source": [
    "# for i in range(comments.shape[0]):\n",
    "#     if comments['NPS Comment/Enhance'].isnull()[i] ==True:\n",
    "#         continue\n",
    "#     else:\n",
    "#         a = re.split(pattern, comments['NPS Comment/Enhance'][i])\n",
    "#         print(a)\n",
    "\n",
    "words = list(map(lambda x:x.lower(),wordlist))"
   ]
  },
  {
   "cell_type": "code",
   "execution_count": 151,
   "metadata": {},
   "outputs": [
    {
     "data": {
      "text/plain": [
       "['pretty', 'ok', 'advisor', 'knowledgeable']"
      ]
     },
     "execution_count": 151,
     "metadata": {},
     "output_type": "execute_result"
    }
   ],
   "source": [
    "all_words = [w for w in words if not w in stopwords] \n",
    "all_words[:4]"
   ]
  },
  {
   "cell_type": "code",
   "execution_count": 50,
   "metadata": {},
   "outputs": [],
   "source": [
    "comments['NPS Comment/Enhance'] = comments['NPS Comment/Enhance'].astype(str)\n",
    "comments['OTHER'] = comments['OTHER'].astype(str)\n",
    "texts1 = ' '.join([w for w in comments['NPS Comment/Enhance']])\n",
    "texts1 = texts1.lower()\n",
    "texts2 = ' '.join([w for w in comments['OTHER']])\n",
    "texts2 = texts2.lower()\n",
    "texts = texts1+' '+texts2"
   ]
  },
  {
   "cell_type": "code",
   "execution_count": 268,
   "metadata": {},
   "outputs": [
    {
     "data": {
      "image/png": "[encoded data removed]",
      "text/plain": [
       "<Figure size 432x288 with 1 Axes>"
      ]
     },
     "metadata": {
      "needs_background": "light"
     },
     "output_type": "display_data"
    },
    {
     "data": {
      "text/plain": [
       "<wordcloud.wordcloud.WordCloud at 0x1ab884f198>"
      ]
     },
     "execution_count": 268,
     "metadata": {},
     "output_type": "execute_result"
    }
   ],
   "source": [
    "stopwords = set(STOPWORDS)\n",
    "stopwords.update(['nan','url',\"website\",'web','online', \"site\", \"information\", \"policy\", \"time\", 'account', 'company', 'page', 'login','access','make', 'insurance', \n",
    "                  'work','see','now','jh','able','t'])\n",
    "\n",
    "wordcloud = WordCloud(stopwords = stopwords, max_font_size=50, max_words=100, background_color=\"white\").generate(texts)\n",
    "plt.figure()\n",
    "plt.imshow(wordcloud, interpolation=\"bilinear\")\n",
    "plt.axis(\"off\")\n",
    "plt.show()\n",
    "wordcloud.to_file(\"first_review.png\")"
   ]
  },
  {
   "cell_type": "code",
   "execution_count": 52,
   "metadata": {},
   "outputs": [
    {
     "data": {
      "text/plain": [
       "[('good', 5),\n",
       " ('best', 3),\n",
       " ('great', 3),\n",
       " ('service', 3),\n",
       " ('easy', 3),\n",
       " ('think', 2),\n",
       " ('customer', 2),\n",
       " ('e', 2),\n",
       " ('mailed', 2),\n",
       " ('pretty', 1)]"
      ]
     },
     "execution_count": 52,
     "metadata": {},
     "output_type": "execute_result"
    }
   ],
   "source": [
    "from collections import Counter \n",
    "Counter = Counter(word for word in words if word not in stopwords) \n",
    "most_occur = Counter.most_common(10) \n",
    "most_occur"
   ]
  },
  {
   "cell_type": "code",
   "execution_count": null,
   "metadata": {},
   "outputs": [],
   "source": []
  },
  {
   "cell_type": "code",
   "execution_count": null,
   "metadata": {},
   "outputs": [],
   "source": []
  },
  {
   "cell_type": "code",
   "execution_count": null,
   "metadata": {},
   "outputs": [],
   "source": []
  },
  {
   "cell_type": "code",
   "execution_count": null,
   "metadata": {},
   "outputs": [],
   "source": []
  },
  {
   "cell_type": "code",
   "execution_count": null,
   "metadata": {},
   "outputs": [],
   "source": []
  },
  {
   "cell_type": "code",
   "execution_count": 95,
   "metadata": {},
   "outputs": [],
   "source": [
    "# sentence without removing stopwords\n",
    "sent = [word_tokenize(sent) for sent in sent_tokenize(texts)]\n",
    "\n",
    "# sentence remove stopwords:\n",
    "#stop_words = set(stopwords.words('english')) \n",
    "stop_words = set(STOPWORDS)\n",
    "stop_words.update([ \"information\",  'company', 'page', 'login', 'insurance', \n",
    "                  'now','jh','john', 'hancock'])\n",
    "\n",
    "sent_tokenize(texts)\n",
    "sent_list=[]\n",
    "for sentence in sent_tokenize(texts):\n",
    "    tokenizer = RegexpTokenizer(r'\\w+') # get rid of punctuation\n",
    "    word_tokens = tokenizer.tokenize(sentence)\n",
    "   #word_tokens = word_tokenize(sentence)\n",
    "    words_set = [w for w in word_tokens if not w in stop_words] \n",
    "    sent_list.append(words_set)\n",
    "    \n",
    "model1 = gensim.models.Word2Vec(sent_list, min_count = 1, size = 100, window = 5) "
   ]
  },
  {
   "cell_type": "code",
   "execution_count": 96,
   "metadata": {},
   "outputs": [
    {
     "name": "stderr",
     "output_type": "stream",
     "text": [
      "C:\\Users\\guochen\\AppData\\Local\\Continuum\\anaconda3\\lib\\site-packages\\ipykernel_launcher.py:1: DeprecationWarning: Call to deprecated `similarity` (Method will be removed in 4.0.0, use self.wv.similarity() instead).\n",
      "  \"\"\"Entry point for launching an IPython kernel.\n"
     ]
    },
    {
     "data": {
      "text/plain": [
       "-0.039576553"
      ]
     },
     "execution_count": 96,
     "metadata": {},
     "output_type": "execute_result"
    }
   ],
   "source": [
    "model1.similarity('missing', 'error')"
   ]
  },
  {
   "cell_type": "code",
   "execution_count": 97,
   "metadata": {},
   "outputs": [
    {
     "data": {
      "text/plain": [
       "[('brought', 0.3613798916339874),\n",
       " ('show', 0.2987709045410156),\n",
       " ('paid', 0.2984021306037903),\n",
       " ('saved', 0.28848978877067566),\n",
       " ('quarterly', 0.27528831362724304),\n",
       " ('cases', 0.27164143323898315),\n",
       " ('despite', 0.26988911628723145),\n",
       " ('usually', 0.26644980907440186),\n",
       " ('couldn', 0.23408208787441254),\n",
       " ('hoping', 0.2305145561695099)]"
      ]
     },
     "execution_count": 97,
     "metadata": {},
     "output_type": "execute_result"
    }
   ],
   "source": [
    "sim_words =model1.wv.most_similar('recommend')\n",
    "sim_words"
   ]
  },
  {
   "cell_type": "code",
   "execution_count": null,
   "metadata": {},
   "outputs": [],
   "source": []
  },
  {
   "cell_type": "code",
   "execution_count": 98,
   "metadata": {},
   "outputs": [
    {
     "name": "stderr",
     "output_type": "stream",
     "text": [
      "C:\\Users\\guochen\\AppData\\Local\\Continuum\\anaconda3\\lib\\site-packages\\ipykernel_launcher.py:3: DeprecationWarning: Call to deprecated `similarity` (Method will be removed in 4.0.0, use self.wv.similarity() instead).\n",
      "  This is separate from the ipykernel package so we can avoid doing imports until\n"
     ]
    },
    {
     "data": {
      "text/plain": [
       "0.4606204"
      ]
     },
     "execution_count": 98,
     "metadata": {},
     "output_type": "execute_result"
    }
   ],
   "source": [
    "# Create Skip Gram model \n",
    "model2 = gensim.models.Word2Vec(sent_list, min_count = 2, size = 100, window = 5, sg = 1) \n",
    "model2.similarity('missing', 'error')"
   ]
  },
  {
   "cell_type": "code",
   "execution_count": 99,
   "metadata": {},
   "outputs": [
    {
     "data": {
      "text/plain": [
       "[('show', 0.6827774047851562),\n",
       " ('find', 0.6678767800331116),\n",
       " ('value', 0.6616883277893066),\n",
       " ('policies', 0.6598153710365295),\n",
       " ('website', 0.6586673259735107),\n",
       " ('premium', 0.6573193073272705),\n",
       " ('data', 0.6469952464103699),\n",
       " ('nan', 0.6466132998466492),\n",
       " ('nothing', 0.6434758901596069),\n",
       " ('policy', 0.6430102586746216)]"
      ]
     },
     "execution_count": 99,
     "metadata": {},
     "output_type": "execute_result"
    }
   ],
   "source": [
    "sim_words =model2.wv.most_similar('recommend')\n",
    "sim_words"
   ]
  },
  {
   "cell_type": "code",
   "execution_count": 101,
   "metadata": {},
   "outputs": [
    {
     "name": "stdout",
     "output_type": "stream",
     "text": [
      "Cosine similarity between 'web' website - Skip Gram :  0.93752456\n"
     ]
    },
    {
     "name": "stderr",
     "output_type": "stream",
     "text": [
      "C:\\Users\\guochen\\AppData\\Local\\Continuum\\anaconda3\\lib\\site-packages\\ipykernel_launcher.py:1: DeprecationWarning: Call to deprecated `similarity` (Method will be removed in 4.0.0, use self.wv.similarity() instead).\n",
      "  \"\"\"Entry point for launching an IPython kernel.\n",
      "C:\\Users\\guochen\\AppData\\Local\\Continuum\\anaconda3\\lib\\site-packages\\ipykernel_launcher.py:4: DeprecationWarning: Call to deprecated `similarity` (Method will be removed in 4.0.0, use self.wv.similarity() instead).\n",
      "  after removing the cwd from sys.path.\n"
     ]
    }
   ],
   "source": [
    "print(\"Cosine similarity between 'web' \" + \"website - Skip Gram : \", model2.similarity('web', 'website')) "
   ]
  },
  {
   "cell_type": "code",
   "execution_count": null,
   "metadata": {},
   "outputs": [],
   "source": []
  },
  {
   "cell_type": "code",
   "execution_count": null,
   "metadata": {},
   "outputs": [],
   "source": []
  },
  {
   "cell_type": "code",
   "execution_count": null,
   "metadata": {},
   "outputs": [],
   "source": []
  },
  {
   "cell_type": "markdown",
   "metadata": {},
   "source": [
    "# Word Embedding techniques (3 ways) #\n",
    "Vectorize consumer comments text, by turning each text into either a sequence of integers or into a vector."
   ]
  },
  {
   "cell_type": "markdown",
   "metadata": {},
   "source": [
    "### bag of words models: ###"
   ]
  },
  {
   "cell_type": "code",
   "execution_count": 279,
   "metadata": {},
   "outputs": [
    {
     "data": {
      "text/html": [
       "<div>\n",
       "<style scoped>\n",
       "    .dataframe tbody tr th:only-of-type {\n",
       "        vertical-align: middle;\n",
       "    }\n",
       "\n",
       "    .dataframe tbody tr th {\n",
       "        vertical-align: top;\n",
       "    }\n",
       "\n",
       "    .dataframe thead th {\n",
       "        text-align: right;\n",
       "    }\n",
       "</style>\n",
       "<table border=\"1\" class=\"dataframe\">\n",
       "  <thead>\n",
       "    <tr style=\"text-align: right;\">\n",
       "      <th></th>\n",
       "      <th>abil</th>\n",
       "      <th>abl</th>\n",
       "      <th>absolut</th>\n",
       "      <th>absurd</th>\n",
       "      <th>acc</th>\n",
       "      <th>accept</th>\n",
       "      <th>access</th>\n",
       "      <th>accomplish</th>\n",
       "      <th>account</th>\n",
       "      <th>accur</th>\n",
       "      <th>...</th>\n",
       "      <th>wouldn</th>\n",
       "      <th>write</th>\n",
       "      <th>wrong</th>\n",
       "      <th>wtf</th>\n",
       "      <th>xx</th>\n",
       "      <th>xxx</th>\n",
       "      <th>year</th>\n",
       "      <th>yes</th>\n",
       "      <th>yet</th>\n",
       "      <th>zero</th>\n",
       "    </tr>\n",
       "  </thead>\n",
       "  <tbody>\n",
       "    <tr>\n",
       "      <th>0</th>\n",
       "      <td>0</td>\n",
       "      <td>0</td>\n",
       "      <td>0</td>\n",
       "      <td>0</td>\n",
       "      <td>0</td>\n",
       "      <td>0</td>\n",
       "      <td>0</td>\n",
       "      <td>0</td>\n",
       "      <td>0</td>\n",
       "      <td>0</td>\n",
       "      <td>...</td>\n",
       "      <td>0</td>\n",
       "      <td>0</td>\n",
       "      <td>0</td>\n",
       "      <td>0</td>\n",
       "      <td>0</td>\n",
       "      <td>0</td>\n",
       "      <td>0</td>\n",
       "      <td>0</td>\n",
       "      <td>0</td>\n",
       "      <td>0</td>\n",
       "    </tr>\n",
       "    <tr>\n",
       "      <th>1</th>\n",
       "      <td>0</td>\n",
       "      <td>0</td>\n",
       "      <td>0</td>\n",
       "      <td>0</td>\n",
       "      <td>0</td>\n",
       "      <td>0</td>\n",
       "      <td>0</td>\n",
       "      <td>0</td>\n",
       "      <td>1</td>\n",
       "      <td>0</td>\n",
       "      <td>...</td>\n",
       "      <td>0</td>\n",
       "      <td>0</td>\n",
       "      <td>0</td>\n",
       "      <td>0</td>\n",
       "      <td>0</td>\n",
       "      <td>0</td>\n",
       "      <td>0</td>\n",
       "      <td>0</td>\n",
       "      <td>0</td>\n",
       "      <td>0</td>\n",
       "    </tr>\n",
       "    <tr>\n",
       "      <th>2</th>\n",
       "      <td>0</td>\n",
       "      <td>0</td>\n",
       "      <td>0</td>\n",
       "      <td>0</td>\n",
       "      <td>0</td>\n",
       "      <td>0</td>\n",
       "      <td>0</td>\n",
       "      <td>0</td>\n",
       "      <td>0</td>\n",
       "      <td>0</td>\n",
       "      <td>...</td>\n",
       "      <td>0</td>\n",
       "      <td>0</td>\n",
       "      <td>0</td>\n",
       "      <td>0</td>\n",
       "      <td>0</td>\n",
       "      <td>0</td>\n",
       "      <td>0</td>\n",
       "      <td>0</td>\n",
       "      <td>0</td>\n",
       "      <td>0</td>\n",
       "    </tr>\n",
       "    <tr>\n",
       "      <th>3</th>\n",
       "      <td>0</td>\n",
       "      <td>0</td>\n",
       "      <td>0</td>\n",
       "      <td>0</td>\n",
       "      <td>0</td>\n",
       "      <td>0</td>\n",
       "      <td>0</td>\n",
       "      <td>0</td>\n",
       "      <td>0</td>\n",
       "      <td>0</td>\n",
       "      <td>...</td>\n",
       "      <td>0</td>\n",
       "      <td>0</td>\n",
       "      <td>0</td>\n",
       "      <td>0</td>\n",
       "      <td>0</td>\n",
       "      <td>0</td>\n",
       "      <td>0</td>\n",
       "      <td>0</td>\n",
       "      <td>0</td>\n",
       "      <td>0</td>\n",
       "    </tr>\n",
       "    <tr>\n",
       "      <th>4</th>\n",
       "      <td>0</td>\n",
       "      <td>0</td>\n",
       "      <td>0</td>\n",
       "      <td>0</td>\n",
       "      <td>0</td>\n",
       "      <td>0</td>\n",
       "      <td>0</td>\n",
       "      <td>0</td>\n",
       "      <td>0</td>\n",
       "      <td>0</td>\n",
       "      <td>...</td>\n",
       "      <td>0</td>\n",
       "      <td>0</td>\n",
       "      <td>0</td>\n",
       "      <td>0</td>\n",
       "      <td>0</td>\n",
       "      <td>0</td>\n",
       "      <td>0</td>\n",
       "      <td>0</td>\n",
       "      <td>0</td>\n",
       "      <td>0</td>\n",
       "    </tr>\n",
       "    <tr>\n",
       "      <th>...</th>\n",
       "      <td>...</td>\n",
       "      <td>...</td>\n",
       "      <td>...</td>\n",
       "      <td>...</td>\n",
       "      <td>...</td>\n",
       "      <td>...</td>\n",
       "      <td>...</td>\n",
       "      <td>...</td>\n",
       "      <td>...</td>\n",
       "      <td>...</td>\n",
       "      <td>...</td>\n",
       "      <td>...</td>\n",
       "      <td>...</td>\n",
       "      <td>...</td>\n",
       "      <td>...</td>\n",
       "      <td>...</td>\n",
       "      <td>...</td>\n",
       "      <td>...</td>\n",
       "      <td>...</td>\n",
       "      <td>...</td>\n",
       "      <td>...</td>\n",
       "    </tr>\n",
       "    <tr>\n",
       "      <th>283</th>\n",
       "      <td>0</td>\n",
       "      <td>0</td>\n",
       "      <td>0</td>\n",
       "      <td>0</td>\n",
       "      <td>0</td>\n",
       "      <td>0</td>\n",
       "      <td>0</td>\n",
       "      <td>0</td>\n",
       "      <td>0</td>\n",
       "      <td>0</td>\n",
       "      <td>...</td>\n",
       "      <td>0</td>\n",
       "      <td>0</td>\n",
       "      <td>0</td>\n",
       "      <td>0</td>\n",
       "      <td>0</td>\n",
       "      <td>0</td>\n",
       "      <td>0</td>\n",
       "      <td>0</td>\n",
       "      <td>0</td>\n",
       "      <td>0</td>\n",
       "    </tr>\n",
       "    <tr>\n",
       "      <th>284</th>\n",
       "      <td>0</td>\n",
       "      <td>0</td>\n",
       "      <td>0</td>\n",
       "      <td>0</td>\n",
       "      <td>0</td>\n",
       "      <td>0</td>\n",
       "      <td>0</td>\n",
       "      <td>0</td>\n",
       "      <td>0</td>\n",
       "      <td>0</td>\n",
       "      <td>...</td>\n",
       "      <td>0</td>\n",
       "      <td>0</td>\n",
       "      <td>0</td>\n",
       "      <td>0</td>\n",
       "      <td>0</td>\n",
       "      <td>0</td>\n",
       "      <td>0</td>\n",
       "      <td>0</td>\n",
       "      <td>0</td>\n",
       "      <td>0</td>\n",
       "    </tr>\n",
       "    <tr>\n",
       "      <th>285</th>\n",
       "      <td>0</td>\n",
       "      <td>0</td>\n",
       "      <td>0</td>\n",
       "      <td>0</td>\n",
       "      <td>0</td>\n",
       "      <td>0</td>\n",
       "      <td>0</td>\n",
       "      <td>0</td>\n",
       "      <td>0</td>\n",
       "      <td>0</td>\n",
       "      <td>...</td>\n",
       "      <td>0</td>\n",
       "      <td>0</td>\n",
       "      <td>0</td>\n",
       "      <td>0</td>\n",
       "      <td>0</td>\n",
       "      <td>0</td>\n",
       "      <td>0</td>\n",
       "      <td>0</td>\n",
       "      <td>0</td>\n",
       "      <td>0</td>\n",
       "    </tr>\n",
       "    <tr>\n",
       "      <th>286</th>\n",
       "      <td>0</td>\n",
       "      <td>0</td>\n",
       "      <td>0</td>\n",
       "      <td>0</td>\n",
       "      <td>0</td>\n",
       "      <td>0</td>\n",
       "      <td>0</td>\n",
       "      <td>0</td>\n",
       "      <td>0</td>\n",
       "      <td>0</td>\n",
       "      <td>...</td>\n",
       "      <td>0</td>\n",
       "      <td>0</td>\n",
       "      <td>0</td>\n",
       "      <td>0</td>\n",
       "      <td>0</td>\n",
       "      <td>0</td>\n",
       "      <td>0</td>\n",
       "      <td>0</td>\n",
       "      <td>0</td>\n",
       "      <td>0</td>\n",
       "    </tr>\n",
       "    <tr>\n",
       "      <th>287</th>\n",
       "      <td>0</td>\n",
       "      <td>0</td>\n",
       "      <td>0</td>\n",
       "      <td>0</td>\n",
       "      <td>0</td>\n",
       "      <td>0</td>\n",
       "      <td>0</td>\n",
       "      <td>0</td>\n",
       "      <td>0</td>\n",
       "      <td>0</td>\n",
       "      <td>...</td>\n",
       "      <td>0</td>\n",
       "      <td>0</td>\n",
       "      <td>0</td>\n",
       "      <td>0</td>\n",
       "      <td>0</td>\n",
       "      <td>0</td>\n",
       "      <td>0</td>\n",
       "      <td>0</td>\n",
       "      <td>0</td>\n",
       "      <td>0</td>\n",
       "    </tr>\n",
       "  </tbody>\n",
       "</table>\n",
       "<p>288 rows × 914 columns</p>\n",
       "</div>"
      ],
      "text/plain": [
       "     abil  abl  absolut  absurd  acc  accept  access  accomplish  account  \\\n",
       "0       0    0        0       0    0       0       0           0        0   \n",
       "1       0    0        0       0    0       0       0           0        1   \n",
       "2       0    0        0       0    0       0       0           0        0   \n",
       "3       0    0        0       0    0       0       0           0        0   \n",
       "4       0    0        0       0    0       0       0           0        0   \n",
       "..    ...  ...      ...     ...  ...     ...     ...         ...      ...   \n",
       "283     0    0        0       0    0       0       0           0        0   \n",
       "284     0    0        0       0    0       0       0           0        0   \n",
       "285     0    0        0       0    0       0       0           0        0   \n",
       "286     0    0        0       0    0       0       0           0        0   \n",
       "287     0    0        0       0    0       0       0           0        0   \n",
       "\n",
       "     accur  ...  wouldn  write  wrong  wtf  xx  xxx  year  yes  yet  zero  \n",
       "0        0  ...       0      0      0    0   0    0     0    0    0     0  \n",
       "1        0  ...       0      0      0    0   0    0     0    0    0     0  \n",
       "2        0  ...       0      0      0    0   0    0     0    0    0     0  \n",
       "3        0  ...       0      0      0    0   0    0     0    0    0     0  \n",
       "4        0  ...       0      0      0    0   0    0     0    0    0     0  \n",
       "..     ...  ...     ...    ...    ...  ...  ..  ...   ...  ...  ...   ...  \n",
       "283      0  ...       0      0      0    0   0    0     0    0    0     0  \n",
       "284      0  ...       0      0      0    0   0    0     0    0    0     0  \n",
       "285      0  ...       0      0      0    0   0    0     0    0    0     0  \n",
       "286      0  ...       0      0      0    0   0    0     0    0    0     0  \n",
       "287      0  ...       0      0      0    0   0    0     0    0    0     0  \n",
       "\n",
       "[288 rows x 914 columns]"
      ]
     },
     "execution_count": 279,
     "metadata": {},
     "output_type": "execute_result"
    }
   ],
   "source": [
    "count_vectorizer = CountVectorizer()\n",
    "bag_of_words = count_vectorizer.fit_transform(final_sent)\n",
    "# Show the Bag-of-Words Model as a pandas DataFrame\n",
    "\n",
    "feature_names = count_vectorizer.get_feature_names()\n",
    "\n",
    "pd.DataFrame(bag_of_words.toarray(), columns = feature_names)"
   ]
  },
  {
   "cell_type": "markdown",
   "metadata": {},
   "source": [
    "### TF-IDF: ###"
   ]
  },
  {
   "cell_type": "code",
   "execution_count": 61,
   "metadata": {},
   "outputs": [
    {
     "name": "stdout",
     "output_type": "stream",
     "text": [
      "(288, 882)\n"
     ]
    },
    {
     "data": {
      "text/html": [
       "<div>\n",
       "<style scoped>\n",
       "    .dataframe tbody tr th:only-of-type {\n",
       "        vertical-align: middle;\n",
       "    }\n",
       "\n",
       "    .dataframe tbody tr th {\n",
       "        vertical-align: top;\n",
       "    }\n",
       "\n",
       "    .dataframe thead th {\n",
       "        text-align: right;\n",
       "    }\n",
       "</style>\n",
       "<table border=\"1\" class=\"dataframe\">\n",
       "  <thead>\n",
       "    <tr style=\"text-align: right;\">\n",
       "      <th></th>\n",
       "      <th>alon</th>\n",
       "      <th>alreadi</th>\n",
       "      <th>altern</th>\n",
       "      <th>although</th>\n",
       "      <th>alway</th>\n",
       "      <th>america</th>\n",
       "      <th>amount</th>\n",
       "      <th>ani</th>\n",
       "      <th>annoy</th>\n",
       "      <th>annual</th>\n",
       "      <th>...</th>\n",
       "      <th>wouldn</th>\n",
       "      <th>write</th>\n",
       "      <th>wrong</th>\n",
       "      <th>wtf</th>\n",
       "      <th>xx</th>\n",
       "      <th>xxx</th>\n",
       "      <th>year</th>\n",
       "      <th>yes</th>\n",
       "      <th>yet</th>\n",
       "      <th>zero</th>\n",
       "    </tr>\n",
       "  </thead>\n",
       "  <tbody>\n",
       "    <tr>\n",
       "      <td>0</td>\n",
       "      <td>0.0</td>\n",
       "      <td>0.0</td>\n",
       "      <td>0.0</td>\n",
       "      <td>0.0</td>\n",
       "      <td>0.0</td>\n",
       "      <td>0.0</td>\n",
       "      <td>0.0</td>\n",
       "      <td>0.0</td>\n",
       "      <td>0.0</td>\n",
       "      <td>0.0</td>\n",
       "      <td>...</td>\n",
       "      <td>0.0</td>\n",
       "      <td>0.0</td>\n",
       "      <td>0.0</td>\n",
       "      <td>0.0</td>\n",
       "      <td>0.0</td>\n",
       "      <td>0.0</td>\n",
       "      <td>0.0</td>\n",
       "      <td>0.0</td>\n",
       "      <td>0.0</td>\n",
       "      <td>0.0</td>\n",
       "    </tr>\n",
       "    <tr>\n",
       "      <td>1</td>\n",
       "      <td>0.0</td>\n",
       "      <td>0.0</td>\n",
       "      <td>0.0</td>\n",
       "      <td>0.0</td>\n",
       "      <td>0.0</td>\n",
       "      <td>0.0</td>\n",
       "      <td>0.0</td>\n",
       "      <td>0.0</td>\n",
       "      <td>0.0</td>\n",
       "      <td>0.0</td>\n",
       "      <td>...</td>\n",
       "      <td>0.0</td>\n",
       "      <td>0.0</td>\n",
       "      <td>0.0</td>\n",
       "      <td>0.0</td>\n",
       "      <td>0.0</td>\n",
       "      <td>0.0</td>\n",
       "      <td>0.0</td>\n",
       "      <td>0.0</td>\n",
       "      <td>0.0</td>\n",
       "      <td>0.0</td>\n",
       "    </tr>\n",
       "    <tr>\n",
       "      <td>2</td>\n",
       "      <td>0.0</td>\n",
       "      <td>0.0</td>\n",
       "      <td>0.0</td>\n",
       "      <td>0.0</td>\n",
       "      <td>0.0</td>\n",
       "      <td>0.0</td>\n",
       "      <td>0.0</td>\n",
       "      <td>0.0</td>\n",
       "      <td>0.0</td>\n",
       "      <td>0.0</td>\n",
       "      <td>...</td>\n",
       "      <td>0.0</td>\n",
       "      <td>0.0</td>\n",
       "      <td>0.0</td>\n",
       "      <td>0.0</td>\n",
       "      <td>0.0</td>\n",
       "      <td>0.0</td>\n",
       "      <td>0.0</td>\n",
       "      <td>0.0</td>\n",
       "      <td>0.0</td>\n",
       "      <td>0.0</td>\n",
       "    </tr>\n",
       "    <tr>\n",
       "      <td>3</td>\n",
       "      <td>0.0</td>\n",
       "      <td>0.0</td>\n",
       "      <td>0.0</td>\n",
       "      <td>0.0</td>\n",
       "      <td>0.0</td>\n",
       "      <td>0.0</td>\n",
       "      <td>0.0</td>\n",
       "      <td>0.0</td>\n",
       "      <td>0.0</td>\n",
       "      <td>0.0</td>\n",
       "      <td>...</td>\n",
       "      <td>0.0</td>\n",
       "      <td>0.0</td>\n",
       "      <td>0.0</td>\n",
       "      <td>0.0</td>\n",
       "      <td>0.0</td>\n",
       "      <td>0.0</td>\n",
       "      <td>0.0</td>\n",
       "      <td>0.0</td>\n",
       "      <td>0.0</td>\n",
       "      <td>0.0</td>\n",
       "    </tr>\n",
       "    <tr>\n",
       "      <td>4</td>\n",
       "      <td>0.0</td>\n",
       "      <td>0.0</td>\n",
       "      <td>0.0</td>\n",
       "      <td>0.0</td>\n",
       "      <td>0.0</td>\n",
       "      <td>0.0</td>\n",
       "      <td>0.0</td>\n",
       "      <td>0.0</td>\n",
       "      <td>0.0</td>\n",
       "      <td>0.0</td>\n",
       "      <td>...</td>\n",
       "      <td>0.0</td>\n",
       "      <td>0.0</td>\n",
       "      <td>0.0</td>\n",
       "      <td>0.0</td>\n",
       "      <td>0.0</td>\n",
       "      <td>0.0</td>\n",
       "      <td>0.0</td>\n",
       "      <td>0.0</td>\n",
       "      <td>0.0</td>\n",
       "      <td>0.0</td>\n",
       "    </tr>\n",
       "  </tbody>\n",
       "</table>\n",
       "<p>5 rows × 882 columns</p>\n",
       "</div>"
      ],
      "text/plain": [
       "   alon  alreadi  altern  although  alway  america  amount  ani  annoy  \\\n",
       "0   0.0      0.0     0.0       0.0    0.0      0.0     0.0  0.0    0.0   \n",
       "1   0.0      0.0     0.0       0.0    0.0      0.0     0.0  0.0    0.0   \n",
       "2   0.0      0.0     0.0       0.0    0.0      0.0     0.0  0.0    0.0   \n",
       "3   0.0      0.0     0.0       0.0    0.0      0.0     0.0  0.0    0.0   \n",
       "4   0.0      0.0     0.0       0.0    0.0      0.0     0.0  0.0    0.0   \n",
       "\n",
       "   annual  ...  wouldn  write  wrong  wtf   xx  xxx  year  yes  yet  zero  \n",
       "0     0.0  ...     0.0    0.0    0.0  0.0  0.0  0.0   0.0  0.0  0.0   0.0  \n",
       "1     0.0  ...     0.0    0.0    0.0  0.0  0.0  0.0   0.0  0.0  0.0   0.0  \n",
       "2     0.0  ...     0.0    0.0    0.0  0.0  0.0  0.0   0.0  0.0  0.0   0.0  \n",
       "3     0.0  ...     0.0    0.0    0.0  0.0  0.0  0.0   0.0  0.0  0.0   0.0  \n",
       "4     0.0  ...     0.0    0.0    0.0  0.0  0.0  0.0   0.0  0.0  0.0   0.0  \n",
       "\n",
       "[5 rows x 882 columns]"
      ]
     },
     "execution_count": 61,
     "metadata": {},
     "output_type": "execute_result"
    }
   ],
   "source": [
    "comments['OTHER'].fillna(' ', inplace = True)\n",
    "comments['comments'] = comments['NPS Comment/Enhance']+ ' '+comments['OTHER']\n",
    "\n",
    "sent1 = comments['comments'].tolist()\n",
    "sent_remove_punc=[]\n",
    "for sent in sent1:\n",
    "    pattern = r\"[^\\w]\"\n",
    "    temp = re.sub(pattern, \" \", str(sent)) # remove punctuation\n",
    "    pattern_dig = r\"[\\d]\"\n",
    "    sent_remove_punc.append(re.sub(pattern_dig, \" \", str(temp))) # remove digtals\n",
    "sent_remove_punc\n",
    "    \n",
    "stop_words = set(STOPWORDS)\n",
    "stop_words.update([ \"information\",  'company', 'page', 'login', 'insurance', \n",
    "                  'now','jh','john', 'hancock'])\n",
    "\n",
    "lemmatizer = WordNetLemmatizer() \n",
    "stemmer = SnowballStemmer(\"english\")\n",
    "final_sent = []\n",
    "for sent in sent_remove_punc:\n",
    "    new_sent_words = []\n",
    "    word_token = word_tokenize(sent)\n",
    "    for w in word_token:\n",
    "        new_w = stemmer.stem(w) # grouping together the different inflected forms of a word so they can be analysed as a single item\n",
    "        new_w = lemmatizer.lemmatize(new_w)\n",
    "        new_sent_words.append(new_w)\n",
    "    new_sent_word_list = [i for i in new_sent_words if not i in stop_words] # remove unnecessary stopwords\n",
    "    new_sent = ' '.join(new_sent_word_list)\n",
    "    final_sent.append(new_sent)\n",
    "final_sent # reduce columns number from 1157 to 882\n",
    "\n",
    "tfidf = TfidfVectorizer()\n",
    "values = tfidf.fit_transform(final_sent)\n",
    "feature_names = tfidf.get_feature_names()\n",
    "tfidf_model = pd.DataFrame(values.toarray(), columns = feature_names)\n",
    "tfidf_model = tfidf_model.iloc[:, 32:]\n",
    "print(tfidf_model.shape)\n",
    "tfidf_model.head()"
   ]
  },
  {
   "cell_type": "markdown",
   "metadata": {},
   "source": [
    "### doc2Vec ###\n",
    "### Please see the link for reference https://github.com/jhlau/doc2vec ###"
   ]
  },
  {
   "cell_type": "code",
   "execution_count": 39,
   "metadata": {},
   "outputs": [],
   "source": [
    "# data1 = np.load('/Users/guochenxin/Desktop/apnews_dbow/doc2vec.bin.syn0.npy')\n",
    "# print(data1.shape)\n",
    "# data2 = np.load('/Users/guochenxin/Desktop/apnews_dbow/doc2vec.bin.syn1neg.npy')\n",
    "# print(data2.shape)"
   ]
  },
  {
   "cell_type": "code",
   "execution_count": 40,
   "metadata": {},
   "outputs": [],
   "source": [
    "# # wrote preprocessed text list into txt file\n",
    "# File_object = open(r\"/Users/guochenxin/Desktop/text classification/train_texts.txt\",\"w+\")\n",
    "# for i in final_sent:\n",
    "#     File_object.writelines(i)\n",
    "#     File_object.write('\\n')\n",
    "# File_object.close()\n",
    "\n",
    "# import gensim.models as g\n",
    "# import logging\n",
    "\n",
    "# #doc2vec parameters\n",
    "# vector_size = 300\n",
    "# window_size = 15\n",
    "# min_count = 1\n",
    "# sampling_threshold = 1e-5\n",
    "# negative_size = 5\n",
    "# train_epoch = 100\n",
    "# dm = 0 #0 = dbow; 1 = dmpv\n",
    "# worker_count = 1 #number of parallel processes\n",
    "\n",
    "# #pretrained word embeddings\n",
    "# pretrained_emb = \"/Users/guochenxin/Desktop/text classification/doc2vec/toy_datatoy_data/pretrained_word_embeddings.txt\" \n",
    "# #None if use without pretrained embeddings\n",
    "\n",
    "# #input corpus\n",
    "# train_corpus = \"/Users/guochenxin/Desktop/text classification/train_texts.txt\"\n",
    "\n",
    "# # output model\n",
    "# # saved_path = \"/Users/guochenxin/Desktop/model.bin\"\n",
    "\n",
    "# #enable logging\n",
    "# logging.basicConfig(format='%(asctime)s : %(levelname)s : %(message)s', level=logging.INFO)\n",
    "\n",
    "# #train doc2vec model\n",
    "# docs = g.doc2vec.TaggedLineDocument(train_corpus)\n",
    "# model = g.Doc2Vec(docs, size=vector_size, window=window_size, min_count=min_count, \n",
    "#                   sample=sampling_threshold, workers=worker_count, hs=0, dm=dm, negative=negative_size, \n",
    "#                   dbow_words=1, dm_concat=1, pretrained_emb=pretrained_emb, iter=train_epoch)\n",
    "\n",
    "# # save model\n",
    "# # model.save(saved_path)"
   ]
  },
  {
   "cell_type": "code",
   "execution_count": 66,
   "metadata": {},
   "outputs": [],
   "source": [
    "model=\"/Users/guochenxin/Desktop/text classification/apnews_dbow/doc2vec.bin\"\n",
    "m = g.Doc2Vec.load(model)\n",
    "start_alpha=0.01\n",
    "infer_epoch=1000\n",
    "\n",
    "res = []\n",
    "\n",
    "for text in final_sent:\n",
    "    res.append(m.infer_vector([text],alpha=start_alpha, steps=infer_epoch))\n",
    "doc2vec_matrix = np.array(res)"
   ]
  },
  {
   "cell_type": "code",
   "execution_count": 16,
   "metadata": {},
   "outputs": [
    {
     "data": {
      "text/plain": [
       "(288, 300)"
      ]
     },
     "execution_count": 16,
     "metadata": {},
     "output_type": "execute_result"
    }
   ],
   "source": [
    "doc2vec_matrix.shape"
   ]
  },
  {
   "cell_type": "code",
   "execution_count": 8,
   "metadata": {},
   "outputs": [
    {
     "data": {
      "text/plain": [
       "(300,)"
      ]
     },
     "execution_count": 8,
     "metadata": {},
     "output_type": "execute_result"
    }
   ],
   "source": [
    "# Get the vectors\n",
    "doc2vec_matrix[287].shape"
   ]
  },
  {
   "cell_type": "code",
   "execution_count": null,
   "metadata": {},
   "outputs": [],
   "source": []
  },
  {
   "cell_type": "code",
   "execution_count": null,
   "metadata": {},
   "outputs": [],
   "source": []
  },
  {
   "cell_type": "markdown",
   "metadata": {},
   "source": [
    "### Data Reconstruction and EDA ###"
   ]
  },
  {
   "cell_type": "code",
   "execution_count": 42,
   "metadata": {},
   "outputs": [
    {
     "name": "stdout",
     "output_type": "stream",
     "text": [
      "22\n",
      "(266, 2)\n"
     ]
    },
    {
     "data": {
      "text/html": [
       "<div>\n",
       "<style scoped>\n",
       "    .dataframe tbody tr th:only-of-type {\n",
       "        vertical-align: middle;\n",
       "    }\n",
       "\n",
       "    .dataframe tbody tr th {\n",
       "        vertical-align: top;\n",
       "    }\n",
       "\n",
       "    .dataframe thead th {\n",
       "        text-align: right;\n",
       "    }\n",
       "</style>\n",
       "<table border=\"1\" class=\"dataframe\">\n",
       "  <thead>\n",
       "    <tr style=\"text-align: right;\">\n",
       "      <th></th>\n",
       "      <th>comments</th>\n",
       "      <th>class</th>\n",
       "    </tr>\n",
       "  </thead>\n",
       "  <tbody>\n",
       "    <tr>\n",
       "      <td>0</td>\n",
       "      <td>pretti ok</td>\n",
       "      <td>misc</td>\n",
       "    </tr>\n",
       "    <tr>\n",
       "      <td>1</td>\n",
       "      <td>advisor veri knowledg use best tool keep best ...</td>\n",
       "      <td>product/industry</td>\n",
       "    </tr>\n",
       "    <tr>\n",
       "      <td>2</td>\n",
       "      <td>good agent honolulu think reliabl compani</td>\n",
       "      <td>product/industry</td>\n",
       "    </tr>\n",
       "    <tr>\n",
       "      <td>3</td>\n",
       "      <td>veri good product offer</td>\n",
       "      <td>product/industry</td>\n",
       "    </tr>\n",
       "    <tr>\n",
       "      <td>4</td>\n",
       "      <td>ha best iul s industri</td>\n",
       "      <td>product/industry</td>\n",
       "    </tr>\n",
       "  </tbody>\n",
       "</table>\n",
       "</div>"
      ],
      "text/plain": [
       "                                            comments             class\n",
       "0                                          pretti ok              misc\n",
       "1  advisor veri knowledg use best tool keep best ...  product/industry\n",
       "2          good agent honolulu think reliabl compani  product/industry\n",
       "3                            veri good product offer  product/industry\n",
       "4                             ha best iul s industri  product/industry"
      ]
     },
     "execution_count": 42,
     "metadata": {},
     "output_type": "execute_result"
    }
   ],
   "source": [
    "comments_labels = pd.DataFrame(final_sent, columns = ['comments'])\n",
    "comments_labels['class'] = comments['Category']\n",
    "print(comments_labels['class'].isnull().sum())\n",
    "comments_labels.dropna(subset = ['class'], inplace = True)\n",
    "print(comments_labels.shape)\n",
    "comments_labels.head()"
   ]
  },
  {
   "cell_type": "code",
   "execution_count": 43,
   "metadata": {},
   "outputs": [
    {
     "data": {
      "text/plain": [
       "error/fail            98\n",
       "usability             78\n",
       "service               35\n",
       "functionality         30\n",
       "product/industry      11\n",
       "login/authenticate    11\n",
       "other                  3\n",
       "Name: class, dtype: int64"
      ]
     },
     "execution_count": 43,
     "metadata": {},
     "output_type": "execute_result"
    }
   ],
   "source": [
    "# combine labels:\n",
    "comments_labels.loc[comments_labels['class'] == 'funcitonality', 'class'] = 'functionality'\n",
    "comments_labels.loc[comments_labels['class'] == 'industry/product', 'class'] = 'product/industry'\n",
    "comments_labels.loc[(comments_labels['class'] == 'misc')|(comments_labels['class'] =='neutral'), 'class'] = 'other' \n",
    "comments_labels['class'].value_counts()"
   ]
  },
  {
   "cell_type": "code",
   "execution_count": 44,
   "metadata": {},
   "outputs": [
    {
     "data": {
      "text/plain": [
       "<matplotlib.axes._subplots.AxesSubplot at 0x1a3ef7cd50>"
      ]
     },
     "execution_count": 44,
     "metadata": {},
     "output_type": "execute_result"
    },
    {
     "data": {
      "image/png": "[encoded data removed]",
      "text/plain": [
       "<Figure size 432x288 with 1 Axes>"
      ]
     },
     "metadata": {
      "needs_background": "light"
     },
     "output_type": "display_data"
    }
   ],
   "source": [
    "comments_labels['class'].value_counts().plot.bar()"
   ]
  },
  {
   "cell_type": "code",
   "execution_count": null,
   "metadata": {},
   "outputs": [],
   "source": []
  },
  {
   "cell_type": "code",
   "execution_count": null,
   "metadata": {},
   "outputs": [],
   "source": []
  },
  {
   "cell_type": "markdown",
   "metadata": {},
   "source": [
    "# Multi-Class Text Classification Modelling: 3 ways #\n",
    "###  Recurrent Neural Network (RNN) using the Long Short Term Memory (LSTM) ###"
   ]
  },
  {
   "cell_type": "code",
   "execution_count": 45,
   "metadata": {},
   "outputs": [
    {
     "name": "stdout",
     "output_type": "stream",
     "text": [
      "Found 899 unique tokens.\n"
     ]
    }
   ],
   "source": [
    "from keras.preprocessing.text import Tokenizer\n",
    "from keras.preprocessing.sequence import pad_sequences\n",
    "from keras.models import Sequential\n",
    "\n",
    "'''\n",
    "comments_labels['comments']\n",
    "a = 'i am a good girl'\n",
    "max_len = 0\n",
    "for i in comments_labels['comments']:\n",
    "    if len(word_tokenize(i)) > max_len:\n",
    "        max_len = len(word_tokenize(i))\n",
    "max_len\n",
    "'''\n",
    "\n",
    "# The maximum number of words to be used. (most frequent)\n",
    "MAX_NB_WORDS = 117\n",
    "# Max number of words in each complaint.\n",
    "MAX_SEQUENCE_LENGTH = 117\n",
    "# This is fixed.\n",
    "EMBEDDING_DIM = 100\n",
    "tokenizer = Tokenizer(num_words=MAX_NB_WORDS, filters='!\"#$%&()*+,-./:;<=>?@[\\]^_`{|}~', lower=True)\n",
    "tokenizer.fit_on_texts(comments_labels['comments'].values)\n",
    "word_index = tokenizer.word_index\n",
    "print('Found %s unique tokens.' % len(word_index))"
   ]
  },
  {
   "cell_type": "code",
   "execution_count": 46,
   "metadata": {},
   "outputs": [
    {
     "name": "stdout",
     "output_type": "stream",
     "text": [
      "Shape of data tensor: (266, 117)\n"
     ]
    }
   ],
   "source": [
    "X = tokenizer.texts_to_sequences(comments_labels['comments'].values)\n",
    "X = pad_sequences(X, maxlen=MAX_SEQUENCE_LENGTH)\n",
    "print('Shape of data tensor:', X.shape)"
   ]
  },
  {
   "cell_type": "markdown",
   "metadata": {},
   "source": [
    "Converting categorical labels to numbers."
   ]
  },
  {
   "cell_type": "code",
   "execution_count": 47,
   "metadata": {},
   "outputs": [
    {
     "name": "stdout",
     "output_type": "stream",
     "text": [
      "Shape of label tensor: (266, 7)\n"
     ]
    }
   ],
   "source": [
    "Y = pd.get_dummies(comments_labels['class']).values\n",
    "print('Shape of label tensor:', Y.shape)"
   ]
  },
  {
   "cell_type": "code",
   "execution_count": 23,
   "metadata": {},
   "outputs": [
    {
     "name": "stdout",
     "output_type": "stream",
     "text": [
      "(186, 117) (186, 7)\n",
      "(80, 117) (80, 7)\n"
     ]
    }
   ],
   "source": [
    "X_train, X_test, Y_train, Y_test = train_test_split(X,Y, test_size = 0.3, random_state = 42)\n",
    "print(X_train.shape,Y_train.shape)\n",
    "print(X_test.shape,Y_test.shape)"
   ]
  },
  {
   "cell_type": "code",
   "execution_count": 24,
   "metadata": {},
   "outputs": [
    {
     "name": "stderr",
     "output_type": "stream",
     "text": [
      "/anaconda3/lib/python3.7/site-packages/tensorflow/python/framework/indexed_slices.py:414: UserWarning: Converting sparse IndexedSlices to a dense Tensor of unknown shape. This may consume a large amount of memory.\n",
      "  \"Converting sparse IndexedSlices to a dense Tensor of unknown shape. \"\n"
     ]
    },
    {
     "name": "stdout",
     "output_type": "stream",
     "text": [
      "Train on 167 samples, validate on 19 samples\n",
      "Epoch 1/20\n",
      "167/167 [==============================] - 2s 12ms/step - loss: 1.9160 - accuracy: 0.3114 - val_loss: 1.6895 - val_accuracy: 0.4211\n",
      "Epoch 2/20\n",
      "167/167 [==============================] - 1s 5ms/step - loss: 1.6576 - accuracy: 0.3892 - val_loss: 1.4441 - val_accuracy: 0.4211\n",
      "Epoch 3/20\n",
      "167/167 [==============================] - 1s 5ms/step - loss: 1.6628 - accuracy: 0.2635 - val_loss: 1.6111 - val_accuracy: 0.4211\n",
      "Epoch 4/20\n",
      "167/167 [==============================] - 1s 5ms/step - loss: 1.6627 - accuracy: 0.3892 - val_loss: 1.5927 - val_accuracy: 0.4211\n",
      "Epoch 5/20\n",
      "167/167 [==============================] - 1s 5ms/step - loss: 1.5836 - accuracy: 0.3892 - val_loss: 1.4711 - val_accuracy: 0.4211\n",
      "Epoch 6/20\n",
      "167/167 [==============================] - 1s 5ms/step - loss: 1.6051 - accuracy: 0.3892 - val_loss: 1.4027 - val_accuracy: 0.4211\n",
      "Epoch 7/20\n",
      "167/167 [==============================] - 1s 5ms/step - loss: 1.5927 - accuracy: 0.2814 - val_loss: 1.4532 - val_accuracy: 0.4737\n",
      "Epoch 8/20\n",
      "167/167 [==============================] - 1s 5ms/step - loss: 1.5671 - accuracy: 0.4012 - val_loss: 1.4699 - val_accuracy: 0.4211\n",
      "Epoch 9/20\n",
      "167/167 [==============================] - 1s 5ms/step - loss: 1.5742 - accuracy: 0.3892 - val_loss: 1.5090 - val_accuracy: 0.4211\n",
      "Epoch 10/20\n",
      "167/167 [==============================] - 1s 5ms/step - loss: 1.5622 - accuracy: 0.3892 - val_loss: 1.4418 - val_accuracy: 0.4211\n",
      "Epoch 11/20\n",
      "167/167 [==============================] - 1s 5ms/step - loss: 1.5408 - accuracy: 0.3892 - val_loss: 1.4176 - val_accuracy: 0.4211\n",
      "Epoch 12/20\n",
      "167/167 [==============================] - 1s 5ms/step - loss: 1.5152 - accuracy: 0.3892 - val_loss: 1.4039 - val_accuracy: 0.4211\n",
      "Epoch 13/20\n",
      "167/167 [==============================] - 1s 5ms/step - loss: 1.5061 - accuracy: 0.3892 - val_loss: 1.4499 - val_accuracy: 0.4211\n",
      "Epoch 14/20\n",
      "167/167 [==============================] - 1s 5ms/step - loss: 1.4390 - accuracy: 0.4012 - val_loss: 1.4705 - val_accuracy: 0.3684\n",
      "Epoch 15/20\n",
      "167/167 [==============================] - 1s 5ms/step - loss: 1.3930 - accuracy: 0.4551 - val_loss: 1.4206 - val_accuracy: 0.3684\n",
      "Epoch 16/20\n",
      "167/167 [==============================] - 1s 5ms/step - loss: 1.3273 - accuracy: 0.5030 - val_loss: 1.4013 - val_accuracy: 0.3684\n",
      "Epoch 17/20\n",
      "167/167 [==============================] - 1s 5ms/step - loss: 1.2935 - accuracy: 0.5269 - val_loss: 1.4439 - val_accuracy: 0.4211\n",
      "Epoch 18/20\n",
      "167/167 [==============================] - 1s 8ms/step - loss: 1.1960 - accuracy: 0.5689 - val_loss: 1.3735 - val_accuracy: 0.4211\n",
      "Epoch 19/20\n",
      "167/167 [==============================] - 1s 7ms/step - loss: 1.1477 - accuracy: 0.6168 - val_loss: 1.4171 - val_accuracy: 0.4211\n",
      "Epoch 20/20\n",
      "167/167 [==============================] - 1s 7ms/step - loss: 1.0831 - accuracy: 0.5988 - val_loss: 1.4295 - val_accuracy: 0.4211\n"
     ]
    }
   ],
   "source": [
    "model1 = Sequential()\n",
    "model1.add(Embedding(1174, 64, input_length=X.shape[1])) # input_dim: This is the size of the vocabulary in the text data: len(word_index)\n",
    "model1.add(LSTM(256, dropout=0.2, recurrent_dropout=0.2))\n",
    "model1.add(Dense(256, activation = 'relu'))\n",
    "model1.add(Dense(7, activation='softmax'))\n",
    "model1.compile(loss='categorical_crossentropy', optimizer='adam', metrics=['accuracy'])\n",
    "\n",
    "epochs =20\n",
    "batch_size = 32\n",
    "\n",
    "history = model1.fit(X_train, Y_train, epochs=epochs, batch_size=batch_size,validation_split=0.1)\n"
   ]
  },
  {
   "cell_type": "code",
   "execution_count": 25,
   "metadata": {},
   "outputs": [
    {
     "name": "stdout",
     "output_type": "stream",
     "text": [
      "80/80 [==============================] - 0s 4ms/step\n",
      "Test set\n",
      "  Loss: 1.445\n",
      "  Accuracy: 0.412\n"
     ]
    }
   ],
   "source": [
    "accr = model1.evaluate(X_test,Y_test)\n",
    "print('Test set\\n  Loss: {:0.3f}\\n  Accuracy: {:0.3f}'.format(accr[0],accr[1]))"
   ]
  },
  {
   "cell_type": "code",
   "execution_count": 26,
   "metadata": {},
   "outputs": [
    {
     "data": {
      "image/png": "[encoded data removed]",
      "text/plain": [
       "<Figure size 432x288 with 1 Axes>"
      ]
     },
     "metadata": {
      "needs_background": "light"
     },
     "output_type": "display_data"
    }
   ],
   "source": [
    "plt.title('Loss')\n",
    "plt.plot(history.history['loss'], label='train')\n",
    "plt.plot(history.history['val_loss'], label='test')\n",
    "plt.legend()\n",
    "plt.show();"
   ]
  },
  {
   "cell_type": "code",
   "execution_count": 27,
   "metadata": {},
   "outputs": [
    {
     "data": {
      "image/png": "[encoded data removed]",
      "text/plain": [
       "<Figure size 432x288 with 1 Axes>"
      ]
     },
     "metadata": {
      "needs_background": "light"
     },
     "output_type": "display_data"
    }
   ],
   "source": [
    "plt.title('Accuracy')\n",
    "plt.plot(history.history['accuracy'], label='train')\n",
    "plt.plot(history.history['val_accuracy'], label='test')\n",
    "plt.legend()\n",
    "plt.show();"
   ]
  },
  {
   "cell_type": "code",
   "execution_count": 28,
   "metadata": {},
   "outputs": [
    {
     "name": "stdout",
     "output_type": "stream",
     "text": [
      "(266, 882)\n"
     ]
    }
   ],
   "source": [
    "tfidf_model['class'] = comments['Category']\n",
    "tfidf_model.dropna(subset = ['class'], inplace = True)\n",
    "tfidf_model.drop(['class'], axis = 1, inplace = True)\n",
    "print(tfidf_model.shape)\n",
    "tfidf_model.head()\n",
    "X1 = tfidf_model.to_numpy()"
   ]
  },
  {
   "cell_type": "code",
   "execution_count": null,
   "metadata": {},
   "outputs": [],
   "source": []
  },
  {
   "cell_type": "code",
   "execution_count": 29,
   "metadata": {},
   "outputs": [
    {
     "name": "stdout",
     "output_type": "stream",
     "text": [
      "(186, 882) (186, 7)\n",
      "(80, 882) (80, 7)\n"
     ]
    }
   ],
   "source": [
    "X_train, X_test, Y_train, Y_test = train_test_split(X1, Y, test_size = 0.3, random_state = 42)\n",
    "print(X_train.shape,Y_train.shape)\n",
    "print(X_test.shape,Y_test.shape)"
   ]
  },
  {
   "cell_type": "code",
   "execution_count": 30,
   "metadata": {},
   "outputs": [
    {
     "name": "stderr",
     "output_type": "stream",
     "text": [
      "/anaconda3/lib/python3.7/site-packages/tensorflow/python/framework/indexed_slices.py:414: UserWarning: Converting sparse IndexedSlices to a dense Tensor of unknown shape. This may consume a large amount of memory.\n",
      "  \"Converting sparse IndexedSlices to a dense Tensor of unknown shape. \"\n"
     ]
    },
    {
     "name": "stdout",
     "output_type": "stream",
     "text": [
      "Train on 167 samples, validate on 19 samples\n",
      "Epoch 1/10\n",
      "167/167 [==============================] - 8s 50ms/step - loss: 1.8809 - accuracy: 0.3174 - val_loss: 1.4973 - val_accuracy: 0.4211\n",
      "Epoch 2/10\n",
      "167/167 [==============================] - 7s 40ms/step - loss: 1.6099 - accuracy: 0.3892 - val_loss: 1.5091 - val_accuracy: 0.4211\n",
      "Epoch 3/10\n",
      "167/167 [==============================] - 8s 47ms/step - loss: 1.6169 - accuracy: 0.3892 - val_loss: 1.4777 - val_accuracy: 0.4211\n",
      "Epoch 4/10\n",
      "167/167 [==============================] - 10s 61ms/step - loss: 1.5857 - accuracy: 0.3892 - val_loss: 1.4351 - val_accuracy: 0.4211\n",
      "Epoch 5/10\n",
      "167/167 [==============================] - 9s 53ms/step - loss: 1.5855 - accuracy: 0.3892 - val_loss: 1.5015 - val_accuracy: 0.4211\n",
      "Epoch 6/10\n",
      "167/167 [==============================] - 10s 59ms/step - loss: 1.6080 - accuracy: 0.3892 - val_loss: 1.4771 - val_accuracy: 0.4211\n",
      "Epoch 7/10\n",
      "167/167 [==============================] - 9s 56ms/step - loss: 1.5887 - accuracy: 0.3892 - val_loss: 1.4556 - val_accuracy: 0.4211\n",
      "Epoch 8/10\n",
      "167/167 [==============================] - 8s 50ms/step - loss: 1.6039 - accuracy: 0.3892 - val_loss: 1.4778 - val_accuracy: 0.4211\n",
      "Epoch 9/10\n",
      "167/167 [==============================] - 12s 70ms/step - loss: 1.6097 - accuracy: 0.3653 - val_loss: 1.4622 - val_accuracy: 0.4211\n",
      "Epoch 10/10\n",
      "167/167 [==============================] - 10s 60ms/step - loss: 1.5926 - accuracy: 0.3892 - val_loss: 1.4392 - val_accuracy: 0.4211\n"
     ]
    }
   ],
   "source": [
    "model2 = Sequential()\n",
    "model2.add(Embedding(882, 64, input_length=X1.shape[1])) # input_dim: This is the size of the vocabulary in the text data: len(word_index)\n",
    "model2.add(LSTM(256, dropout=0.1, recurrent_dropout=0.1))\n",
    "model2.add(Dense(256, activation = 'relu'))\n",
    "model2.add(Dense(7, activation='softmax'))\n",
    "model2.compile(loss='categorical_crossentropy', optimizer='adam', metrics=['accuracy'])\n",
    "\n",
    "epochs = 10\n",
    "batch_size = 32\n",
    "\n",
    "history = model2.fit(X_train, Y_train, epochs=epochs, batch_size=batch_size,validation_split=0.1)"
   ]
  },
  {
   "cell_type": "code",
   "execution_count": 31,
   "metadata": {},
   "outputs": [
    {
     "data": {
      "text/plain": [
       "array([[0.38050625, 0.11455975, 0.0529141 , ..., 0.04242464, 0.14258738,\n",
       "        0.25303704],\n",
       "       [0.38050625, 0.11455975, 0.0529141 , ..., 0.04242464, 0.14258738,\n",
       "        0.25303704],\n",
       "       [0.38050625, 0.11455975, 0.0529141 , ..., 0.04242464, 0.14258738,\n",
       "        0.25303704],\n",
       "       ...,\n",
       "       [0.38050625, 0.11455975, 0.0529141 , ..., 0.04242464, 0.14258738,\n",
       "        0.25303704],\n",
       "       [0.38050625, 0.11455973, 0.0529141 , ..., 0.04242464, 0.14258738,\n",
       "        0.25303704],\n",
       "       [0.38050625, 0.11455973, 0.0529141 , ..., 0.04242464, 0.14258738,\n",
       "        0.25303704]], dtype=float32)"
      ]
     },
     "execution_count": 31,
     "metadata": {},
     "output_type": "execute_result"
    }
   ],
   "source": [
    "y_pred = model2.predict(X_train)\n",
    "y_pred"
   ]
  },
  {
   "cell_type": "code",
   "execution_count": null,
   "metadata": {},
   "outputs": [],
   "source": []
  },
  {
   "cell_type": "code",
   "execution_count": null,
   "metadata": {},
   "outputs": [],
   "source": []
  },
  {
   "cell_type": "markdown",
   "metadata": {},
   "source": [
    "### Doc2Vwc with Random Forest without PCA ###"
   ]
  },
  {
   "cell_type": "code",
   "execution_count": 68,
   "metadata": {},
   "outputs": [
    {
     "name": "stdout",
     "output_type": "stream",
     "text": [
      "          0         1         2         3         4         5         6  \\\n",
      "0  0.001134 -0.001224  0.000577 -0.000671 -0.000966 -0.001329 -0.000031   \n",
      "1 -0.000668 -0.000813 -0.000692  0.000507  0.000613  0.000346  0.000738   \n",
      "2 -0.000554  0.001409  0.000070  0.000949  0.001392  0.000137  0.000325   \n",
      "3  0.001211  0.001072  0.001175 -0.001408  0.001174  0.000043  0.001360   \n",
      "4  0.000535  0.000198 -0.000475  0.000233  0.001141  0.000634  0.000184   \n",
      "\n",
      "          7         8         9  ...       291       292       293       294  \\\n",
      "0 -0.000094  0.000663  0.001292  ... -0.000025 -0.000039  0.001440 -0.000635   \n",
      "1  0.000875 -0.001171 -0.001491  ...  0.000870 -0.000397  0.001475  0.000808   \n",
      "2 -0.000426  0.000354  0.001341  ...  0.000583  0.001274  0.000494 -0.001084   \n",
      "3  0.000328  0.001170 -0.000268  ... -0.000554 -0.000276 -0.001107  0.001430   \n",
      "4  0.000923 -0.001132 -0.000582  ... -0.000653 -0.000355  0.001086  0.000048   \n",
      "\n",
      "        295       296       297       298       299  class  \n",
      "0 -0.001563  0.001122  0.000941 -0.001498  0.000281      0  \n",
      "1  0.000441 -0.000236  0.001568  0.000253 -0.000109      1  \n",
      "2 -0.001589  0.000515 -0.001367 -0.000921 -0.000602      1  \n",
      "3  0.000787  0.000535  0.000608 -0.000729  0.000560      1  \n",
      "4 -0.000612  0.001234  0.001205  0.000072 -0.000931      1  \n",
      "\n",
      "[5 rows x 301 columns]\n",
      "Index(['misc', 'product/industry', 'service', 'usability', 'error/fail',\n",
      "       'functionality', 'login/authenticate', 'funcitonality',\n",
      "       'industry/product', 'neutral'],\n",
      "      dtype='object')\n",
      "(266, 301)\n"
     ]
    },
    {
     "data": {
      "text/html": [
       "<div>\n",
       "<style scoped>\n",
       "    .dataframe tbody tr th:only-of-type {\n",
       "        vertical-align: middle;\n",
       "    }\n",
       "\n",
       "    .dataframe tbody tr th {\n",
       "        vertical-align: top;\n",
       "    }\n",
       "\n",
       "    .dataframe thead th {\n",
       "        text-align: right;\n",
       "    }\n",
       "</style>\n",
       "<table border=\"1\" class=\"dataframe\">\n",
       "  <thead>\n",
       "    <tr style=\"text-align: right;\">\n",
       "      <th></th>\n",
       "      <th>0</th>\n",
       "      <th>1</th>\n",
       "      <th>2</th>\n",
       "      <th>3</th>\n",
       "      <th>4</th>\n",
       "      <th>5</th>\n",
       "      <th>6</th>\n",
       "      <th>7</th>\n",
       "      <th>8</th>\n",
       "      <th>9</th>\n",
       "      <th>...</th>\n",
       "      <th>290</th>\n",
       "      <th>291</th>\n",
       "      <th>292</th>\n",
       "      <th>293</th>\n",
       "      <th>294</th>\n",
       "      <th>295</th>\n",
       "      <th>296</th>\n",
       "      <th>297</th>\n",
       "      <th>298</th>\n",
       "      <th>299</th>\n",
       "    </tr>\n",
       "  </thead>\n",
       "  <tbody>\n",
       "    <tr>\n",
       "      <td>0</td>\n",
       "      <td>0.001134</td>\n",
       "      <td>-0.001224</td>\n",
       "      <td>0.000577</td>\n",
       "      <td>-0.000671</td>\n",
       "      <td>-0.000966</td>\n",
       "      <td>-0.001329</td>\n",
       "      <td>-0.000031</td>\n",
       "      <td>-0.000094</td>\n",
       "      <td>0.000663</td>\n",
       "      <td>0.001292</td>\n",
       "      <td>...</td>\n",
       "      <td>0.000432</td>\n",
       "      <td>-0.000025</td>\n",
       "      <td>-0.000039</td>\n",
       "      <td>0.001440</td>\n",
       "      <td>-0.000635</td>\n",
       "      <td>-0.001563</td>\n",
       "      <td>0.001122</td>\n",
       "      <td>0.000941</td>\n",
       "      <td>-0.001498</td>\n",
       "      <td>0.000281</td>\n",
       "    </tr>\n",
       "    <tr>\n",
       "      <td>1</td>\n",
       "      <td>-0.000668</td>\n",
       "      <td>-0.000813</td>\n",
       "      <td>-0.000692</td>\n",
       "      <td>0.000507</td>\n",
       "      <td>0.000613</td>\n",
       "      <td>0.000346</td>\n",
       "      <td>0.000738</td>\n",
       "      <td>0.000875</td>\n",
       "      <td>-0.001171</td>\n",
       "      <td>-0.001491</td>\n",
       "      <td>...</td>\n",
       "      <td>-0.000948</td>\n",
       "      <td>0.000870</td>\n",
       "      <td>-0.000397</td>\n",
       "      <td>0.001475</td>\n",
       "      <td>0.000808</td>\n",
       "      <td>0.000441</td>\n",
       "      <td>-0.000236</td>\n",
       "      <td>0.001568</td>\n",
       "      <td>0.000253</td>\n",
       "      <td>-0.000109</td>\n",
       "    </tr>\n",
       "    <tr>\n",
       "      <td>2</td>\n",
       "      <td>-0.000554</td>\n",
       "      <td>0.001409</td>\n",
       "      <td>0.000070</td>\n",
       "      <td>0.000949</td>\n",
       "      <td>0.001392</td>\n",
       "      <td>0.000137</td>\n",
       "      <td>0.000325</td>\n",
       "      <td>-0.000426</td>\n",
       "      <td>0.000354</td>\n",
       "      <td>0.001341</td>\n",
       "      <td>...</td>\n",
       "      <td>0.001643</td>\n",
       "      <td>0.000583</td>\n",
       "      <td>0.001274</td>\n",
       "      <td>0.000494</td>\n",
       "      <td>-0.001084</td>\n",
       "      <td>-0.001589</td>\n",
       "      <td>0.000515</td>\n",
       "      <td>-0.001367</td>\n",
       "      <td>-0.000921</td>\n",
       "      <td>-0.000602</td>\n",
       "    </tr>\n",
       "    <tr>\n",
       "      <td>3</td>\n",
       "      <td>0.001211</td>\n",
       "      <td>0.001072</td>\n",
       "      <td>0.001175</td>\n",
       "      <td>-0.001408</td>\n",
       "      <td>0.001174</td>\n",
       "      <td>0.000043</td>\n",
       "      <td>0.001360</td>\n",
       "      <td>0.000328</td>\n",
       "      <td>0.001170</td>\n",
       "      <td>-0.000268</td>\n",
       "      <td>...</td>\n",
       "      <td>-0.001382</td>\n",
       "      <td>-0.000554</td>\n",
       "      <td>-0.000276</td>\n",
       "      <td>-0.001107</td>\n",
       "      <td>0.001430</td>\n",
       "      <td>0.000787</td>\n",
       "      <td>0.000535</td>\n",
       "      <td>0.000608</td>\n",
       "      <td>-0.000729</td>\n",
       "      <td>0.000560</td>\n",
       "    </tr>\n",
       "    <tr>\n",
       "      <td>4</td>\n",
       "      <td>0.000535</td>\n",
       "      <td>0.000198</td>\n",
       "      <td>-0.000475</td>\n",
       "      <td>0.000233</td>\n",
       "      <td>0.001141</td>\n",
       "      <td>0.000634</td>\n",
       "      <td>0.000184</td>\n",
       "      <td>0.000923</td>\n",
       "      <td>-0.001132</td>\n",
       "      <td>-0.000582</td>\n",
       "      <td>...</td>\n",
       "      <td>0.000859</td>\n",
       "      <td>-0.000653</td>\n",
       "      <td>-0.000355</td>\n",
       "      <td>0.001086</td>\n",
       "      <td>0.000048</td>\n",
       "      <td>-0.000612</td>\n",
       "      <td>0.001234</td>\n",
       "      <td>0.001205</td>\n",
       "      <td>0.000072</td>\n",
       "      <td>-0.000931</td>\n",
       "    </tr>\n",
       "  </tbody>\n",
       "</table>\n",
       "<p>5 rows × 300 columns</p>\n",
       "</div>"
      ],
      "text/plain": [
       "        0         1         2         3         4         5         6    \\\n",
       "0  0.001134 -0.001224  0.000577 -0.000671 -0.000966 -0.001329 -0.000031   \n",
       "1 -0.000668 -0.000813 -0.000692  0.000507  0.000613  0.000346  0.000738   \n",
       "2 -0.000554  0.001409  0.000070  0.000949  0.001392  0.000137  0.000325   \n",
       "3  0.001211  0.001072  0.001175 -0.001408  0.001174  0.000043  0.001360   \n",
       "4  0.000535  0.000198 -0.000475  0.000233  0.001141  0.000634  0.000184   \n",
       "\n",
       "        7         8         9    ...       290       291       292       293  \\\n",
       "0 -0.000094  0.000663  0.001292  ...  0.000432 -0.000025 -0.000039  0.001440   \n",
       "1  0.000875 -0.001171 -0.001491  ... -0.000948  0.000870 -0.000397  0.001475   \n",
       "2 -0.000426  0.000354  0.001341  ...  0.001643  0.000583  0.001274  0.000494   \n",
       "3  0.000328  0.001170 -0.000268  ... -0.001382 -0.000554 -0.000276 -0.001107   \n",
       "4  0.000923 -0.001132 -0.000582  ...  0.000859 -0.000653 -0.000355  0.001086   \n",
       "\n",
       "        294       295       296       297       298       299  \n",
       "0 -0.000635 -0.001563  0.001122  0.000941 -0.001498  0.000281  \n",
       "1  0.000808  0.000441 -0.000236  0.001568  0.000253 -0.000109  \n",
       "2 -0.001084 -0.001589  0.000515 -0.001367 -0.000921 -0.000602  \n",
       "3  0.001430  0.000787  0.000535  0.000608 -0.000729  0.000560  \n",
       "4  0.000048 -0.000612  0.001234  0.001205  0.000072 -0.000931  \n",
       "\n",
       "[5 rows x 300 columns]"
      ]
     },
     "execution_count": 68,
     "metadata": {},
     "output_type": "execute_result"
    }
   ],
   "source": [
    "doc2vec_matrix = pd.DataFrame(doc2vec_matrix)\n",
    "doc2vec_matrix['class'] = comments['Category']\n",
    "doc2vec_matrix.dropna(subset = ['class'], inplace = True)\n",
    "factor = pd.factorize(doc2vec_matrix['class'])\n",
    "doc2vec_matrix['class'] = factor[0]\n",
    "definitions = factor[1]\n",
    "doc2vec_matrix_Y = doc2vec_matrix['class']\n",
    "print(doc2vec_matrix.head())\n",
    "print(definitions)\n",
    "#doc2vec_matrix.drop(['class'], axis = 1, inplace = True)\n",
    "print(doc2vec_matrix.shape)\n",
    "doc2vec_matrix_X = doc2vec_matrix.iloc[:, :-1]\n",
    "doc2vec_matrix_X.head()\n",
    "# doc2vec_matrix = doc2vec_matrix.to_numpy()\n",
    "# doc2vec_matrix_Y = doc2vec_matrix_Y.to_numpy()"
   ]
  },
  {
   "cell_type": "code",
   "execution_count": 92,
   "metadata": {},
   "outputs": [
    {
     "name": "stdout",
     "output_type": "stream",
     "text": [
      "(186, 300) (186,)\n",
      "(80, 300) (80,)\n",
      "Fitting 3 folds for each of 10 candidates, totalling 30 fits\n"
     ]
    },
    {
     "name": "stderr",
     "output_type": "stream",
     "text": [
      "/anaconda3/lib/python3.7/site-packages/sklearn/model_selection/_split.py:657: Warning: The least populated class in y has only 1 members, which is too few. The minimum number of members in any class cannot be less than n_splits=3.\n",
      "  % (min_groups, self.n_splits)), Warning)\n",
      "[Parallel(n_jobs=-1)]: Using backend LokyBackend with 8 concurrent workers.\n",
      "[Parallel(n_jobs=-1)]: Done  30 out of  30 | elapsed:    7.7s finished\n",
      "/anaconda3/lib/python3.7/site-packages/sklearn/model_selection/_search.py:814: DeprecationWarning: The default of the `iid` parameter will change from True to False in version 0.22 and will be removed in 0.24. This will change numeric results when test-set sizes are unequal.\n",
      "  DeprecationWarning)\n"
     ]
    },
    {
     "data": {
      "text/plain": [
       "{'n_estimators': 366,\n",
       " 'min_samples_split': 5,\n",
       " 'min_samples_leaf': 4,\n",
       " 'max_features': 'auto',\n",
       " 'max_depth': 10,\n",
       " 'bootstrap': True}"
      ]
     },
     "execution_count": 92,
     "metadata": {},
     "output_type": "execute_result"
    }
   ],
   "source": [
    "# X_train = doc2vec_matrix_X.values\n",
    "# Y_train = doc2vec_matrix_Y.values\n",
    "\n",
    "X_train, X_test, Y_train, Y_test = train_test_split(doc2vec_matrix_X, doc2vec_matrix_Y, test_size = 0.3, random_state = 42)\n",
    "print(X_train.shape,Y_train.shape)\n",
    "print(X_test.shape,Y_test.shape)\n",
    "\n",
    "from sklearn.model_selection import RandomizedSearchCV\n",
    "from sklearn.ensemble import RandomForestClassifier\n",
    "# Number of trees in random forest\n",
    "n_estimators = [int(x) for x in np.linspace(start = 50, stop = 1000, num = 4)]\n",
    "# Number of features to consider at every split\n",
    "max_features = ['auto', 'sqrt']\n",
    "# Maximum number of levels in tree\n",
    "max_depth = [int(x) for x in np.linspace(10, 30, num = 3)]\n",
    "max_depth.append(None)\n",
    "# Minimum number of samples required to split a node\n",
    "min_samples_split = [2, 5, 10]\n",
    "# Minimum number of samples required at each leaf node\n",
    "min_samples_leaf = [1, 2, 4]\n",
    "# Method of selecting samples for training each tree\n",
    "bootstrap = [True, False]\n",
    " \n",
    "# Create the random grid\n",
    "random_grid = {'n_estimators': n_estimators,\n",
    "'max_features': max_features,\n",
    "'max_depth': max_depth,\n",
    "'min_samples_split': min_samples_split,\n",
    "'min_samples_leaf': min_samples_leaf,\n",
    "'bootstrap': bootstrap}\n",
    "\n",
    "# Random Search Training: Use the random grid to search for best hyperparameters\n",
    "# First create the base model to tune\n",
    "rf = RandomForestClassifier(random_state=42)\n",
    "# Random search of parameters, using 3 fold cross validation, \n",
    "# search across 100 different combinations, and use all available cores (altogether 3*100 training sets)\n",
    "rf_random = RandomizedSearchCV(estimator = rf, param_distributions = random_grid, n_iter = 10, cv = 3, verbose=2, random_state=42, n_jobs = -1)# Fit the random search model\n",
    "rf_random.fit(X_train, Y_train)\n",
    " \n",
    "# Result analysis: evaluate random search\n",
    "rf_random.best_params_ # get the best parameter set\n",
    "\n",
    "#best_random = RandomForestRegressor(bootstrap=True, criterion='mse', max_depth=30, max_features='sqrt', max_leaf_nodes=None, min_impurity_decrease=0.0, min_impurity_split=None, min_samples_leaf=1, min_samples_split=5, min_weight_fraction_leaf=0.0, n_estimators=1400, n_jobs=None, oob_score=False, random_state=42, verbose=0, warm_start=False)"
   ]
  },
  {
   "cell_type": "code",
   "execution_count": 93,
   "metadata": {},
   "outputs": [
    {
     "data": {
      "text/plain": [
       "RandomForestClassifier(bootstrap=True, class_weight=None, criterion='gini',\n",
       "                       max_depth=10, max_features='sqrt', max_leaf_nodes=None,\n",
       "                       min_impurity_decrease=0.0, min_impurity_split=None,\n",
       "                       min_samples_leaf=4, min_samples_split=5,\n",
       "                       min_weight_fraction_leaf=0.0, n_estimators=366,\n",
       "                       n_jobs=None, oob_score=False, random_state=42, verbose=0,\n",
       "                       warm_start=False)"
      ]
     },
     "execution_count": 93,
     "metadata": {},
     "output_type": "execute_result"
    }
   ],
   "source": [
    "best_random = RandomForestClassifier(bootstrap=True, criterion='gini', max_depth=10, max_features='sqrt', \n",
    "                                    max_leaf_nodes=None, min_impurity_decrease=0.0, min_impurity_split=None, \n",
    "                                    min_samples_leaf=4, min_samples_split=5, min_weight_fraction_leaf=0.0, \n",
    "                                    n_estimators=366, n_jobs=None, oob_score=False, random_state=42, verbose=0, warm_start=False)\n",
    "best_random.fit(X_train, Y_train)"
   ]
  },
  {
   "cell_type": "code",
   "execution_count": 94,
   "metadata": {},
   "outputs": [
    {
     "data": {
      "text/plain": [
       "0.3125"
      ]
     },
     "execution_count": 94,
     "metadata": {},
     "output_type": "execute_result"
    }
   ],
   "source": [
    "from sklearn import metrics\n",
    "from sklearn.metrics import accuracy_score\n",
    "y_pred = best_random.predict(X_test)\n",
    "accuracy_score(Y_test, y_pred)"
   ]
  },
  {
   "cell_type": "code",
   "execution_count": 95,
   "metadata": {},
   "outputs": [
    {
     "data": {
      "text/plain": [
       "195    5\n",
       "123    3\n",
       "256    3\n",
       "166    4\n",
       "118    3\n",
       "      ..\n",
       "39     4\n",
       "210    6\n",
       "90     4\n",
       "128    3\n",
       "124    3\n",
       "Name: class, Length: 186, dtype: int64"
      ]
     },
     "execution_count": 95,
     "metadata": {},
     "output_type": "execute_result"
    }
   ],
   "source": [
    "Y_train"
   ]
  },
  {
   "cell_type": "code",
   "execution_count": 96,
   "metadata": {},
   "outputs": [
    {
     "data": {
      "text/plain": [
       "array([4, 4, 4, 4, 4, 4, 4, 4, 4, 4, 4, 4, 4, 4, 4, 4, 4, 4, 4, 4, 4, 4,\n",
       "       4, 4, 4, 4, 4, 4, 4, 4, 4, 4, 4, 4, 4, 4, 4, 4, 4, 4, 4, 4, 4, 4,\n",
       "       4, 4, 4, 4, 4, 4, 4, 4, 4, 4, 4, 4, 4, 4, 4, 4, 4, 4, 4, 4, 4, 4,\n",
       "       4, 3, 4, 4, 4, 4, 4, 4, 4, 4, 4, 4, 4, 4])"
      ]
     },
     "execution_count": 96,
     "metadata": {},
     "output_type": "execute_result"
    }
   ],
   "source": [
    "y_pred"
   ]
  },
  {
   "cell_type": "code",
   "execution_count": null,
   "metadata": {},
   "outputs": [],
   "source": []
  },
  {
   "cell_type": "code",
   "execution_count": null,
   "metadata": {},
   "outputs": [],
   "source": []
  },
  {
   "cell_type": "code",
   "execution_count": null,
   "metadata": {},
   "outputs": [],
   "source": []
  },
  {
   "cell_type": "markdown",
   "metadata": {},
   "source": [
    "### Doc2Vwc with Random Forest with PCA ###"
   ]
  },
  {
   "cell_type": "code",
   "execution_count": 100,
   "metadata": {},
   "outputs": [
    {
     "data": {
      "text/plain": [
       "PCA(copy=True, iterated_power='auto', n_components=5, random_state=None,\n",
       "    svd_solver='auto', tol=0.0, whiten=False)"
      ]
     },
     "execution_count": 100,
     "metadata": {},
     "output_type": "execute_result"
    }
   ],
   "source": [
    "from sklearn.decomposition import PCA\n",
    "pca = PCA(n_components=5)\n",
    "pca.fit(doc2vec_matrix.to_numpy())"
   ]
  },
  {
   "cell_type": "code",
   "execution_count": 101,
   "metadata": {},
   "outputs": [
    {
     "name": "stdout",
     "output_type": "stream",
     "text": [
      "[0.92696375 0.05528042 0.01007266 0.00412599 0.0032055 ]\n"
     ]
    }
   ],
   "source": [
    "print(pca.explained_variance_ratio_)"
   ]
  },
  {
   "cell_type": "code",
   "execution_count": null,
   "metadata": {},
   "outputs": [],
   "source": []
  },
  {
   "cell_type": "code",
   "execution_count": 108,
   "metadata": {},
   "outputs": [
    {
     "name": "stdout",
     "output_type": "stream",
     "text": [
      "[[ 1.57364146e-04 -1.84703275e-04  4.54267120e-05 ...  3.00375620e-04\n",
      "   1.54173747e-04  9.99996686e-01]\n",
      " [ 1.65960440e-02  2.75429371e-03 -1.03778469e-01 ... -4.72438970e-03\n",
      "  -1.16950111e-02  5.99212137e-04]\n",
      " [ 4.38958536e-02  4.59072954e-02  1.23288730e-02 ...  1.31078246e-01\n",
      "   9.40889085e-02 -9.49006937e-04]\n",
      " [ 6.87841665e-03  1.84755477e-02  5.02046463e-02 ... -2.52470273e-02\n",
      "   2.34350093e-02 -8.59558173e-04]\n",
      " [-2.07420060e-02  1.26942737e-01  4.25753526e-02 ... -5.26718444e-02\n",
      "  -2.49316680e-02  1.96702390e-03]]\n",
      "(5, 301)\n"
     ]
    }
   ],
   "source": [
    "print(pca.components_)\n",
    "print(pca.components_.shape)"
   ]
  },
  {
   "cell_type": "code",
   "execution_count": null,
   "metadata": {},
   "outputs": [],
   "source": []
  }
 ],
 "metadata": {
  "kernelspec": {
   "display_name": "Python 3",
   "language": "python",
   "name": "python3"
  },
  "language_info": {
   "codemirror_mode": {
    "name": "ipython",
    "version": 3
   },
   "file_extension": ".py",
   "mimetype": "text/x-python",
   "name": "python",
   "nbconvert_exporter": "python",
   "pygments_lexer": "ipython3",
   "version": "3.7.4"
  }
 },
 "nbformat": 4,
 "nbformat_minor": 4
}
